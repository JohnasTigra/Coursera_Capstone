{
  "nbformat": 4,
  "nbformat_minor": 0,
  "metadata": {
    "colab": {
      "name": "IBM_EARTH_QUAKE_ANALYSIS.ipynb",
      "version": "0.3.2",
      "provenance": [],
      "collapsed_sections": [],
      "include_colab_link": true
    },
    "kernelspec": {
      "name": "python3",
      "display_name": "Python 3"
    }
  },
  "cells": [
    {
      "cell_type": "markdown",
      "metadata": {
        "id": "view-in-github",
        "colab_type": "text"
      },
      "source": [
        "<a href=\"https://colab.research.google.com/github/swastiknath/Coursera_Capstone/blob/master/IBM_EARTH_QUAKE_ANALYSIS.ipynb\" target=\"_parent\"><img src=\"https://colab.research.google.com/assets/colab-badge.svg\" alt=\"Open In Colab\"/></a>"
      ]
    },
    {
      "metadata": {
        "id": "ESpWXmadqQnN",
        "colab_type": "text"
      },
      "cell_type": "markdown",
      "source": [
        "<h1> Locating the Earthquake Heavy Regions and Vulnerable to Earthquake Hotels in the United States. </h1>\n",
        "<h3> IBM APPLIED DATA SCIENCE CAPSTONE.  </h3>"
      ]
    },
    {
      "metadata": {
        "id": "ukYa01Npaage",
        "colab_type": "text"
      },
      "cell_type": "markdown",
      "source": [
        "\n",
        "\n",
        "---\n",
        "\n",
        "<h2> Contents: </h2>\n",
        "\n",
        "\n",
        "1.  [INTRODUCTION: BUSINESS APPROACH](#intro)\n",
        "2.  [ALL ABOUT DATA AND DATA PROVIDERS](#data) \n",
        "3.  [METHODOLOGY](#methodology)\n",
        "4.  [DATA ANALYSIS](#analysis)\n",
        "5.  [ANALYSIS RESULTS AND A FEW WORDS](#results)\n",
        "6. [CONCLUSION](#conclusion)\n",
        "\n",
        "\n",
        "---\n",
        "\n",
        "\n",
        "\n",
        "\n"
      ]
    },
    {
      "metadata": {
        "id": "lNA35LMWKJlo",
        "colab_type": "text"
      },
      "cell_type": "markdown",
      "source": [
        "# Introduction : Business Approach <a name = 'intro'></a>\n",
        "\n"
      ]
    },
    {
      "metadata": {
        "id": "MbIqheO2MK2u",
        "colab_type": "text"
      },
      "cell_type": "markdown",
      "source": [
        "This assignment is aimed to determine the earthquake heavy regions in the United States and to find the vulnerable to earthquake hotels across the Unites States. This assignment will be helpful to the government city management departments and or, stakeholders of the hotels to determine if the place where they are constructing or have contructed hotels are safe from earthquakes and if not, it will trigger them to inspect for the structural security. \n",
        "\n",
        "As, United States and it's neighbourhoods and their vicnity are always ready for business and cultural programmes, it's obvious that there are so many hotels around the cities we choose. But we will use a different approach, called Vulnerable Occurence (frequency of occurrence as a nearby hotel per recoded place) to determine the vulnerabiliteies in different hotels. \n",
        "\n",
        "In this project we will use different data science tools to determine the vulnerable places and hotels near them. While applying the tools, we will follow the methodical framework as prescribed by Dr. John Rollins of IBM."
      ]
    },
    {
      "metadata": {
        "id": "gJs1iI-fKh5f",
        "colab_type": "text"
      },
      "cell_type": "markdown",
      "source": [
        "# All about the Data and the Data Providers. <a name = 'data'></a>"
      ]
    },
    {
      "metadata": {
        "id": "AspXzfsqRsgU",
        "colab_type": "text"
      },
      "cell_type": "markdown",
      "source": [
        "As the problem we are facing, the following are the primary investigation about the data:\n",
        "\n",
        "\n",
        "*   We need to use the earthquake records for the previous years to conclude on the earthquake heavy regions across the United States. We will use different visualtions to get a better insight on the data. \n",
        "*   We need to fetch the hotels data from the earthquake data, to obtain which we need to access the street level details around the specified radius of the recorded earthquake areas. \n",
        "*   The distances from the places of recorded eathquakes to the hotels are also a large factor upon the decision. \n",
        "*   For the sake of precision and accuracy, we will need to verify the data by using many visualisation processes between different feature variables. \n",
        "*  The data we will be working with are natural data, so there will be many irregularities, which need to be generalised. \n",
        "\n",
        "Data Providers who can match our requirements:\n",
        "*  The </b>United States Geological Survey (USGS) </b> provides a very intuitive API and Web portal service from where obtainning premium quality data are easy and free as well. The state of the art database system of USGS has plenty of information about every recorded earthquake event. The resulting dataset is customizable and supports different output formats. So, we select USGS as our provider of Earthquake data.  \n",
        "*  As we will require street level data and information about different businesses, more specifically information about different hotels, we will use Foursquare API to obtain such information. Foursquare offers a very affordable API service to obtain required information.\n",
        "\n"
      ]
    },
    {
      "metadata": {
        "id": "VRBDy0odKrbf",
        "colab_type": "text"
      },
      "cell_type": "markdown",
      "source": [
        "# Methodology and Analysis Framework: <a name = 'methodology'></a>"
      ]
    },
    {
      "metadata": {
        "id": "aOZj9kpHaX6m",
        "colab_type": "text"
      },
      "cell_type": "markdown",
      "source": [
        "In this assignment we sort out the places where we have found higher frequency of earthquakes in the United States. We will at first visualise all the significant earthquakes around the world and then we will narrow down to the United States only. Next, we will further narrow down our results to the places with higher frequency of earthquakes in the US by passing in the geocoded places of recorded earthquake places. \n",
        "\n",
        "After we finish our fetching stage we, further move on to desciptive statistics of the dataframe. Before diving deeper, we replace the null values and drop the insignificant columns. We proceed with all steps to obtain a cleaned dataset with values all significant. \n",
        "\n",
        "In the very next step we proceed to exploratory data analysis where we explore different relationships between different between columns and explore the factors that have an impact upon the magnitude by plotting them differently and visualising them both in 2 and 3 dimensional plots, which will deliberately help us in better understanding the relation curve. \n",
        "\n",
        "The very next step of us, is to fetch street level details to obtain information about different businesses, especiialy hotels near the risky to earthquake places by requesting through an API. Next, we generate a dataframe from the response of the API to better represent the resulting dataset, narrowed down to hotels only, we plot them to a map and visualise circular boundaries around them. \n",
        "\n",
        "We introduce a new terminology here, Vulnerable Occurence, which is in simple words the frequency of occurrence as a nearby place of a single business place(here hotels) per place of recorded earthquake event. We count Vulnerable Occurrence of per business places by simply counting them.\n",
        "\n",
        "We, proceed further and cluster the hotels using K-Means Clustering, an supervised learning process where, the algorithm clusters the unlabelled dataset into pre-specified number of clustrs and assigns them a label. We plot them to our map for visualisation and evaluaton."
      ]
    },
    {
      "metadata": {
        "id": "75ob9CTtLH20",
        "colab_type": "text"
      },
      "cell_type": "markdown",
      "source": [
        "# Data Analysis: <a name = 'analysis'></a>"
      ]
    },
    {
      "metadata": {
        "id": "YdzBIYbEnBZK",
        "colab_type": "text"
      },
      "cell_type": "markdown",
      "source": [
        "Let's start analysing the data and obtain the results. We will start by performing basic descriptive stastical analysis and then further analysing the data and at the final stage we plot the cluster of hotels into the map. "
      ]
    },
    {
      "metadata": {
        "id": "BU2-MvpK30Dz",
        "colab_type": "text"
      },
      "cell_type": "markdown",
      "source": [
        "<h2>Importing necessary PYTHON Liabraries </h2>\n",
        "<p> Let's import packages needed to get our things done. We have imported a few of the required pakcages and more have been added on the fly. </p>"
      ]
    },
    {
      "metadata": {
        "id": "T_47p--dBUUq",
        "colab_type": "code",
        "outputId": "124cf0b3-b8d3-4437-d4a7-16f61949ef0b",
        "colab": {
          "base_uri": "https://localhost:8080/",
          "height": 35
        }
      },
      "cell_type": "code",
      "source": [
        "import pandas as pd\n",
        "pd.set_option('display.max_columns', None)\n",
        "pd.set_option('display.max_rows', None)\n",
        "import numpy as np\n",
        "import json\n",
        "import matplotlib as mpl\n",
        "import matplotlib.pyplot as plt\n",
        "from IPython.display import HTML, display\n",
        "import folium\n",
        "import seaborn as sns\n",
        "from sklearn.cluster import KMeans\n",
        "print('LIABRARY IMPORT SUCCESS.')"
      ],
      "execution_count": 197,
      "outputs": [
        {
          "output_type": "stream",
          "text": [
            "LIABRARY IMPORT SUCCESS.\n"
          ],
          "name": "stdout"
        }
      ]
    },
    {
      "metadata": {
        "id": "SN_9F8F-7JX6",
        "colab_type": "text"
      },
      "cell_type": "markdown",
      "source": [
        "<h2> Obtainning the Dataset: </h2>\n",
        "<p> The following dataset was obtained from <a href = 'https://earthquake.usgs.gov/earthquakes/search/'> USGS Earth Quake Search Catalogue </a>. </p>\n",
        "<p> The United States Geological Survey, provides a very intuitive API service and web portal, where users can enquire different events regarding earthquakes and all other types of natural harards. The output can be obtained in different formats. Users can obtain the resulting dataset in CSV, GeoJSON, KML and other formats.</p>\n",
        "\n",
        "<p> Using the website and the search catalogue I have filtered out two datasets. The following dataset contains the results of 2.5+ magintude earthquakes all over the world. "
      ]
    },
    {
      "metadata": {
        "id": "kYBM7C5nC0qE",
        "colab_type": "code",
        "outputId": "acb98b32-fc86-4f67-9ec0-cbcbe82b8482",
        "colab": {
          "base_uri": "https://localhost:8080/",
          "height": 217
        }
      },
      "cell_type": "code",
      "source": [
        "!wget -O earthquakes.csv https://s3.amazonaws.com/swastiknathgroup/Earthquake_results.csv"
      ],
      "execution_count": 198,
      "outputs": [
        {
          "output_type": "stream",
          "text": [
            "--2019-04-27 12:27:56--  https://s3.amazonaws.com/swastiknathgroup/Earthquake_results.csv\n",
            "Resolving s3.amazonaws.com (s3.amazonaws.com)... 52.217.0.214\n",
            "Connecting to s3.amazonaws.com (s3.amazonaws.com)|52.217.0.214|:443... connected.\n",
            "HTTP request sent, awaiting response... 200 OK\n",
            "Length: 52287 (51K) [text/csv]\n",
            "Saving to: ‘earthquakes.csv’\n",
            "\n",
            "\rearthquakes.csv       0%[                    ]       0  --.-KB/s               \rearthquakes.csv     100%[===================>]  51.06K  --.-KB/s    in 0.06s   \n",
            "\n",
            "2019-04-27 12:27:57 (792 KB/s) - ‘earthquakes.csv’ saved [52287/52287]\n",
            "\n"
          ],
          "name": "stdout"
        }
      ]
    },
    {
      "metadata": {
        "id": "DoY2J2nU-76z",
        "colab_type": "text"
      },
      "cell_type": "markdown",
      "source": [
        "<h2>Let's Take a look at the dataframe: </h2>\n",
        "<p>Let's take a look at each of the column of the dataframe and decide which of the columns we don't require for the analysis. </p>\n",
        "<div> </div>\n",
        "<p> From the dataframe let's take into notice, the references by the columns. <p>\n",
        "<table> \n",
        "  <th>Serial Number: </th>\n",
        "  <th>Column Header: </th>\n",
        "  <th> Refernce by the column </th>\n",
        "  <tr> \n",
        "    <td>01.</td>\n",
        "    <td> time</td>\n",
        "    <td> Time of the earthquake event </td>\n",
        "  </tr>\n",
        "  <tr>\n",
        "    <td>02.</td>\n",
        "    <td>latitude</td>\n",
        "    <td>Latitude of the recorded event</td>\n",
        "  </tr>\n",
        "  <tr>\n",
        "    <td>03.</td>\n",
        "    <td>longitude</td>\n",
        "    <td>Longitude of the recorde event</td>\n",
        "  </tr>\n",
        "  <tr>\n",
        "    <td>04.</td>\n",
        "    <td>depth</td>\n",
        "    <td>The depth where the earthquake begins to rupture</td>\n",
        "  </tr>\n",
        "  <tr>\n",
        "    <td>05.</td>\n",
        "    <td>mag</td>\n",
        "    <td>Magnitude of the event recorded. </td>\n",
        "  </tr>\n",
        "  <tr>\n",
        "    <td>06.</td>\n",
        "    <td>magType</td>\n",
        "    <td>The method or algorithm used to calculate the preferred magnitude for the event</td>\n",
        "  </tr>\n",
        "  <tr>\n",
        "    <td>07.</td>\n",
        "    <td>nst</td>\n",
        "    <td>The total number of seismic stations used to determine earthquake location</td>\n",
        "  </tr>\n",
        "  <tr>\n",
        "    <td>08.</td>\n",
        "    <td>gap</td>\n",
        "    <td>The largest azimuthal gap between azimuthally adjacent stations (in degrees)</td>\n",
        "  </tr>\n",
        "  <tr>\n",
        "    <td>09.</td>\n",
        "    <td>rms</td>\n",
        "    <td>The root-mean-square (RMS) travel time residual, in sec, using all weights</td>\n",
        "  </tr>\n",
        "  <tr>\n",
        "    <td>10.</td>\n",
        "    <td>id</td>\n",
        "    <td>A unique identifier for the event.</td>\n",
        "  </tr>\n",
        "  <tr>\n",
        "    <td>11.</td>\n",
        "    <td>updated</td>\n",
        "    <td>Time when the event was most recently updated.</td>\n",
        "  </tr>\n",
        "  <tr>\n",
        "    <td>12.</td>\n",
        "    <td>place</td>\n",
        "    <td>Textual description of named geographic region near to the event.</td>\n",
        "  </tr>\n",
        "  <tr>\n",
        "    <td>13.</td>\n",
        "    <td>type</td>\n",
        "    <td>Type of the incident recorded.</td>\n",
        "  </tr>\n",
        "  <tr>\n",
        "    <td>14.</td>\n",
        "    <td>horizontalError</td>\n",
        "    <td>Uncertainty of reported location of the event in kilometers</td>\n",
        "  </tr>\n",
        "  <tr>\n",
        "    <td>15.</td>\n",
        "    <td>depthError</td>\n",
        "    <td>Uncertainty of reported depth of the event in kilometers</td>\n",
        "  </tr>\n",
        "  <tr>\n",
        "    <td>16.</td>\n",
        "    <td>magError</td>\n",
        "    <td>Uncertainty of reported magnitude of the event</td>\n",
        "  </tr>\n",
        "  <tr>\n",
        "    <td>17.</td>\n",
        "    <td>magNst</td>\n",
        "    <td>The total number of seismic stations used to calculate the magnitude for this earthquake</td>\n",
        "  </tr>\n",
        "  <tr>\n",
        "    <td>18.</td>\n",
        "    <td>status</td>\n",
        "    <td>Status of the recorded event.</td>\n",
        "  </tr>\n",
        "  <tr>\n",
        "    <td>19.</td>\n",
        "    <td>dmin</td>\n",
        "    <td>Horizontal distance from the epicenter to the nearest station (in degrees)</td>\n",
        "  </tr>\n",
        "  <tr>\n",
        "    <td>20.</td>\n",
        "    <td>locationSource</td>\n",
        "    <td>The network that originally authored the reported location of this event</td>\n",
        "  </tr>\n",
        "  <tr>\n",
        "    <td>21.</td>\n",
        "    <td>magSource</td>\n",
        "    <td>The network that originally authored the reported magnitude of the event.</td>\n",
        "  </tr>"
      ]
    },
    {
      "metadata": {
        "id": "iyL7bcEMPBbC",
        "colab_type": "text"
      },
      "cell_type": "markdown",
      "source": [
        "<h2> Let's View the Dataframe for the very first time : </h2>\n",
        "<h3>World Earthquake Data from USGS for 2010-2019: </h3>\n",
        "<p> As we just imported our csv file and created a pandas dataframe, let's take a glimpse of the dataframe and take a look at different primary statistical information. "
      ]
    },
    {
      "metadata": {
        "id": "iWpRe4oFC_tF",
        "colab_type": "code",
        "outputId": "fe529590-475f-488f-ec60-8b22b1622b6b",
        "colab": {
          "base_uri": "https://localhost:8080/",
          "height": 1035
        }
      },
      "cell_type": "code",
      "source": [
        "earth_quake_dataframe = pd.read_csv('earthquakes.csv')\n",
        "print(earth_quake_dataframe.head())\n",
        "print(earth_quake_dataframe.describe())"
      ],
      "execution_count": 199,
      "outputs": [
        {
          "output_type": "stream",
          "text": [
            "                       time  latitude   longitude   depth   mag magType   nst  \\\n",
            "0  2019-04-23T16:50:53.690Z   33.3620 -116.396167   11.99  2.75      ml  81.0   \n",
            "1  2019-04-23T16:05:21.080Z   56.5228 -148.700300   20.00  3.50      ml   NaN   \n",
            "2  2019-04-23T15:38:57.942Z   66.3164 -156.935000    0.00  3.40      ml   NaN   \n",
            "3  2019-04-23T15:32:43.413Z   66.2945 -157.210500    7.30  4.50      ml   NaN   \n",
            "4  2019-04-23T15:22:54.341Z  -23.7890  179.961100  552.14  4.60      mb   NaN   \n",
            "\n",
            "     gap     dmin   rms net            id                   updated  \\\n",
            "0   27.0  0.09519  0.21  ci    ci38328295  2019-04-23T17:02:21.470Z   \n",
            "1  252.0  2.46400  0.49  us    us70003arc  2019-04-23T16:17:21.040Z   \n",
            "2    NaN      NaN  0.74  ak  ak019574vzgj  2019-04-23T16:07:23.672Z   \n",
            "3    NaN      NaN  0.74  ak  ak019574uo3u  2019-04-23T16:55:27.040Z   \n",
            "4  129.0  6.27300  0.77  us    us70003aq1  2019-04-23T15:54:23.040Z   \n",
            "\n",
            "                           place        type  horizontalError  depthError  \\\n",
            "0  12km N of Borrego Springs, CA  earthquake             0.21        0.63   \n",
            "1    264km ESE of Kodiak, Alaska  earthquake             5.20       11.90   \n",
            "2        65km S of Kobuk, Alaska  earthquake              NaN        0.40   \n",
            "3      69km SSW of Kobuk, Alaska  earthquake              NaN        0.30   \n",
            "4      South of the Fiji Islands  earthquake            13.70       11.10   \n",
            "\n",
            "   magError  magNst     status locationSource magSource  \n",
            "0     0.283    26.0  automatic             ci        ci  \n",
            "1     0.057    40.0   reviewed             us        us  \n",
            "2       NaN     NaN  automatic             ak        ak  \n",
            "3       NaN     NaN   reviewed             ak        ak  \n",
            "4     0.050   119.0   reviewed             us        us  \n",
            "         latitude   longitude       depth         mag        nst         gap  \\\n",
            "count  283.000000  283.000000  283.000000  283.000000  80.000000  231.000000   \n",
            "mean    22.811401  -39.103522   70.892403    3.844311  25.437500  134.145455   \n",
            "std     30.264237  121.691692  125.782260    1.003396  24.346051   87.697020   \n",
            "min    -58.741700 -179.575800   -2.920000    2.500000   3.000000   16.000000   \n",
            "25%     -1.286250 -149.060150   10.000000    2.900000   8.000000   64.000000   \n",
            "50%     19.465500  -68.911800   20.000000    3.900000  13.000000  111.000000   \n",
            "75%     46.944950  118.807100   68.500000    4.700000  38.500000  192.500000   \n",
            "max     69.378100  179.961100  617.130000    6.500000  98.000000  343.000000   \n",
            "\n",
            "             dmin         rms  horizontalError  depthError    magError  \\\n",
            "count  231.000000  283.000000       231.000000  283.000000  228.000000   \n",
            "mean     1.994528    0.675442         6.141338    4.576678    0.122750   \n",
            "std      2.192556    0.355336         3.824113    4.672881    0.091635   \n",
            "min      0.001605    0.030000         0.000000    0.000000    0.000000   \n",
            "25%      0.467100    0.425000         3.060000    0.935000    0.063000   \n",
            "50%      1.203000    0.700000         6.570000    2.000000    0.090000   \n",
            "75%      3.056000    0.870000         9.150000    6.930000    0.160250   \n",
            "max     17.266000    1.980000        15.300000   31.610000    0.590000   \n",
            "\n",
            "           magNst  \n",
            "count  231.000000  \n",
            "mean    55.346320  \n",
            "std     75.239915  \n",
            "min      1.000000  \n",
            "25%     12.500000  \n",
            "50%     26.000000  \n",
            "75%     65.000000  \n",
            "max    439.000000  \n"
          ],
          "name": "stdout"
        }
      ]
    },
    {
      "metadata": {
        "id": "fLRfPGfuN_WE",
        "colab_type": "text"
      },
      "cell_type": "markdown",
      "source": [
        "<h2> Converting and verifing the columns to correct data types.</h2>\n",
        "<p>Due to importing the dataset from a source, as a measure to reduce the type error, let's change the inappropriate types per columns to an appropriate type and review the dataframe. </p>"
      ]
    },
    {
      "metadata": {
        "id": "A1r8flc6DX2b",
        "colab_type": "code",
        "outputId": "6501fd19-2fe6-4fe7-8c1f-950bee1cdb12",
        "colab": {
          "base_uri": "https://localhost:8080/",
          "height": 545
        }
      },
      "cell_type": "code",
      "source": [
        "print('Shape of the Dataframe: ',earth_quake_dataframe.shape)\n",
        "print(earth_quake_dataframe.columns)\n",
        "earth_quake_dataframe['time'] = pd.to_datetime(earth_quake_dataframe['time'])\n",
        "earth_quake_dataframe['updated'] = pd.to_datetime(earth_quake_dataframe['updated'])\n",
        "print('Data Type: ', earth_quake_dataframe.dtypes)"
      ],
      "execution_count": 200,
      "outputs": [
        {
          "output_type": "stream",
          "text": [
            "Shape of the Dataframe:  (283, 22)\n",
            "Index(['time', 'latitude', 'longitude', 'depth', 'mag', 'magType', 'nst',\n",
            "       'gap', 'dmin', 'rms', 'net', 'id', 'updated', 'place', 'type',\n",
            "       'horizontalError', 'depthError', 'magError', 'magNst', 'status',\n",
            "       'locationSource', 'magSource'],\n",
            "      dtype='object')\n",
            "Data Type:  time               datetime64[ns, UTC]\n",
            "latitude                       float64\n",
            "longitude                      float64\n",
            "depth                          float64\n",
            "mag                            float64\n",
            "magType                         object\n",
            "nst                            float64\n",
            "gap                            float64\n",
            "dmin                           float64\n",
            "rms                            float64\n",
            "net                             object\n",
            "id                              object\n",
            "updated            datetime64[ns, UTC]\n",
            "place                           object\n",
            "type                            object\n",
            "horizontalError                float64\n",
            "depthError                     float64\n",
            "magError                       float64\n",
            "magNst                         float64\n",
            "status                          object\n",
            "locationSource                  object\n",
            "magSource                       object\n",
            "dtype: object\n"
          ],
          "name": "stdout"
        }
      ]
    },
    {
      "metadata": {
        "id": "5qUXzo8tOi5D",
        "colab_type": "text"
      },
      "cell_type": "markdown",
      "source": [
        "<h2>Eliminating the not required columns from the dataframe. </h2>\n",
        "<p> From the dataframe we can view that, in the further analysis we will not require a few columns and their data. So, let's drop them and review the dataframe again.</p>"
      ]
    },
    {
      "metadata": {
        "id": "-g_cUIT1Dr2g",
        "colab_type": "code",
        "outputId": "dabfa94f-c32d-4d9b-ff82-1f468e99faf7",
        "colab": {
          "base_uri": "https://localhost:8080/",
          "height": 495
        }
      },
      "cell_type": "code",
      "source": [
        "earth_quake_dataframe.drop(['magType', 'id', 'magSource', 'locationSource', 'net'], axis = 1, inplace = True)\n",
        "earth_quake_dataframe.head()"
      ],
      "execution_count": 201,
      "outputs": [
        {
          "output_type": "execute_result",
          "data": {
            "text/html": [
              "<div>\n",
              "<style scoped>\n",
              "    .dataframe tbody tr th:only-of-type {\n",
              "        vertical-align: middle;\n",
              "    }\n",
              "\n",
              "    .dataframe tbody tr th {\n",
              "        vertical-align: top;\n",
              "    }\n",
              "\n",
              "    .dataframe thead th {\n",
              "        text-align: right;\n",
              "    }\n",
              "</style>\n",
              "<table border=\"1\" class=\"dataframe\">\n",
              "  <thead>\n",
              "    <tr style=\"text-align: right;\">\n",
              "      <th></th>\n",
              "      <th>time</th>\n",
              "      <th>latitude</th>\n",
              "      <th>longitude</th>\n",
              "      <th>depth</th>\n",
              "      <th>mag</th>\n",
              "      <th>nst</th>\n",
              "      <th>gap</th>\n",
              "      <th>dmin</th>\n",
              "      <th>rms</th>\n",
              "      <th>updated</th>\n",
              "      <th>place</th>\n",
              "      <th>type</th>\n",
              "      <th>horizontalError</th>\n",
              "      <th>depthError</th>\n",
              "      <th>magError</th>\n",
              "      <th>magNst</th>\n",
              "      <th>status</th>\n",
              "    </tr>\n",
              "  </thead>\n",
              "  <tbody>\n",
              "    <tr>\n",
              "      <th>0</th>\n",
              "      <td>2019-04-23 16:50:53.690000+00:00</td>\n",
              "      <td>33.3620</td>\n",
              "      <td>-116.396167</td>\n",
              "      <td>11.99</td>\n",
              "      <td>2.75</td>\n",
              "      <td>81.0</td>\n",
              "      <td>27.0</td>\n",
              "      <td>0.09519</td>\n",
              "      <td>0.21</td>\n",
              "      <td>2019-04-23 17:02:21.470000+00:00</td>\n",
              "      <td>12km N of Borrego Springs, CA</td>\n",
              "      <td>earthquake</td>\n",
              "      <td>0.21</td>\n",
              "      <td>0.63</td>\n",
              "      <td>0.283</td>\n",
              "      <td>26.0</td>\n",
              "      <td>automatic</td>\n",
              "    </tr>\n",
              "    <tr>\n",
              "      <th>1</th>\n",
              "      <td>2019-04-23 16:05:21.080000+00:00</td>\n",
              "      <td>56.5228</td>\n",
              "      <td>-148.700300</td>\n",
              "      <td>20.00</td>\n",
              "      <td>3.50</td>\n",
              "      <td>NaN</td>\n",
              "      <td>252.0</td>\n",
              "      <td>2.46400</td>\n",
              "      <td>0.49</td>\n",
              "      <td>2019-04-23 16:17:21.040000+00:00</td>\n",
              "      <td>264km ESE of Kodiak, Alaska</td>\n",
              "      <td>earthquake</td>\n",
              "      <td>5.20</td>\n",
              "      <td>11.90</td>\n",
              "      <td>0.057</td>\n",
              "      <td>40.0</td>\n",
              "      <td>reviewed</td>\n",
              "    </tr>\n",
              "    <tr>\n",
              "      <th>2</th>\n",
              "      <td>2019-04-23 15:38:57.942000+00:00</td>\n",
              "      <td>66.3164</td>\n",
              "      <td>-156.935000</td>\n",
              "      <td>0.00</td>\n",
              "      <td>3.40</td>\n",
              "      <td>NaN</td>\n",
              "      <td>NaN</td>\n",
              "      <td>NaN</td>\n",
              "      <td>0.74</td>\n",
              "      <td>2019-04-23 16:07:23.672000+00:00</td>\n",
              "      <td>65km S of Kobuk, Alaska</td>\n",
              "      <td>earthquake</td>\n",
              "      <td>NaN</td>\n",
              "      <td>0.40</td>\n",
              "      <td>NaN</td>\n",
              "      <td>NaN</td>\n",
              "      <td>automatic</td>\n",
              "    </tr>\n",
              "    <tr>\n",
              "      <th>3</th>\n",
              "      <td>2019-04-23 15:32:43.413000+00:00</td>\n",
              "      <td>66.2945</td>\n",
              "      <td>-157.210500</td>\n",
              "      <td>7.30</td>\n",
              "      <td>4.50</td>\n",
              "      <td>NaN</td>\n",
              "      <td>NaN</td>\n",
              "      <td>NaN</td>\n",
              "      <td>0.74</td>\n",
              "      <td>2019-04-23 16:55:27.040000+00:00</td>\n",
              "      <td>69km SSW of Kobuk, Alaska</td>\n",
              "      <td>earthquake</td>\n",
              "      <td>NaN</td>\n",
              "      <td>0.30</td>\n",
              "      <td>NaN</td>\n",
              "      <td>NaN</td>\n",
              "      <td>reviewed</td>\n",
              "    </tr>\n",
              "    <tr>\n",
              "      <th>4</th>\n",
              "      <td>2019-04-23 15:22:54.341000+00:00</td>\n",
              "      <td>-23.7890</td>\n",
              "      <td>179.961100</td>\n",
              "      <td>552.14</td>\n",
              "      <td>4.60</td>\n",
              "      <td>NaN</td>\n",
              "      <td>129.0</td>\n",
              "      <td>6.27300</td>\n",
              "      <td>0.77</td>\n",
              "      <td>2019-04-23 15:54:23.040000+00:00</td>\n",
              "      <td>South of the Fiji Islands</td>\n",
              "      <td>earthquake</td>\n",
              "      <td>13.70</td>\n",
              "      <td>11.10</td>\n",
              "      <td>0.050</td>\n",
              "      <td>119.0</td>\n",
              "      <td>reviewed</td>\n",
              "    </tr>\n",
              "  </tbody>\n",
              "</table>\n",
              "</div>"
            ],
            "text/plain": [
              "                              time  latitude   longitude   depth   mag   nst  \\\n",
              "0 2019-04-23 16:50:53.690000+00:00   33.3620 -116.396167   11.99  2.75  81.0   \n",
              "1 2019-04-23 16:05:21.080000+00:00   56.5228 -148.700300   20.00  3.50   NaN   \n",
              "2 2019-04-23 15:38:57.942000+00:00   66.3164 -156.935000    0.00  3.40   NaN   \n",
              "3 2019-04-23 15:32:43.413000+00:00   66.2945 -157.210500    7.30  4.50   NaN   \n",
              "4 2019-04-23 15:22:54.341000+00:00  -23.7890  179.961100  552.14  4.60   NaN   \n",
              "\n",
              "     gap     dmin   rms                          updated  \\\n",
              "0   27.0  0.09519  0.21 2019-04-23 17:02:21.470000+00:00   \n",
              "1  252.0  2.46400  0.49 2019-04-23 16:17:21.040000+00:00   \n",
              "2    NaN      NaN  0.74 2019-04-23 16:07:23.672000+00:00   \n",
              "3    NaN      NaN  0.74 2019-04-23 16:55:27.040000+00:00   \n",
              "4  129.0  6.27300  0.77 2019-04-23 15:54:23.040000+00:00   \n",
              "\n",
              "                           place        type  horizontalError  depthError  \\\n",
              "0  12km N of Borrego Springs, CA  earthquake             0.21        0.63   \n",
              "1    264km ESE of Kodiak, Alaska  earthquake             5.20       11.90   \n",
              "2        65km S of Kobuk, Alaska  earthquake              NaN        0.40   \n",
              "3      69km SSW of Kobuk, Alaska  earthquake              NaN        0.30   \n",
              "4      South of the Fiji Islands  earthquake            13.70       11.10   \n",
              "\n",
              "   magError  magNst     status  \n",
              "0     0.283    26.0  automatic  \n",
              "1     0.057    40.0   reviewed  \n",
              "2       NaN     NaN  automatic  \n",
              "3       NaN     NaN   reviewed  \n",
              "4     0.050   119.0   reviewed  "
            ]
          },
          "metadata": {
            "tags": []
          },
          "execution_count": 201
        }
      ]
    },
    {
      "metadata": {
        "id": "yovGAau3PuEb",
        "colab_type": "text"
      },
      "cell_type": "markdown",
      "source": [
        "<h2>Replacing the Null Values</h2>\n",
        "<p> Let's replace the null values with the average of the column from the dataset. This process is more reliable than dropping the null data. Our mission is to obtain a cleaner dataset for visualisation. </p>"
      ]
    },
    {
      "metadata": {
        "id": "ysBgh9EYD3xM",
        "colab_type": "code",
        "outputId": "11d5b101-95c2-48bf-fb03-990a79eac793",
        "colab": {
          "base_uri": "https://localhost:8080/",
          "height": 495
        }
      },
      "cell_type": "code",
      "source": [
        "earth_quake_dataframe.fillna(earth_quake_dataframe.mean(), inplace = True)\n",
        "earth_quake_dataframe.head()"
      ],
      "execution_count": 202,
      "outputs": [
        {
          "output_type": "execute_result",
          "data": {
            "text/html": [
              "<div>\n",
              "<style scoped>\n",
              "    .dataframe tbody tr th:only-of-type {\n",
              "        vertical-align: middle;\n",
              "    }\n",
              "\n",
              "    .dataframe tbody tr th {\n",
              "        vertical-align: top;\n",
              "    }\n",
              "\n",
              "    .dataframe thead th {\n",
              "        text-align: right;\n",
              "    }\n",
              "</style>\n",
              "<table border=\"1\" class=\"dataframe\">\n",
              "  <thead>\n",
              "    <tr style=\"text-align: right;\">\n",
              "      <th></th>\n",
              "      <th>time</th>\n",
              "      <th>latitude</th>\n",
              "      <th>longitude</th>\n",
              "      <th>depth</th>\n",
              "      <th>mag</th>\n",
              "      <th>nst</th>\n",
              "      <th>gap</th>\n",
              "      <th>dmin</th>\n",
              "      <th>rms</th>\n",
              "      <th>updated</th>\n",
              "      <th>place</th>\n",
              "      <th>type</th>\n",
              "      <th>horizontalError</th>\n",
              "      <th>depthError</th>\n",
              "      <th>magError</th>\n",
              "      <th>magNst</th>\n",
              "      <th>status</th>\n",
              "    </tr>\n",
              "  </thead>\n",
              "  <tbody>\n",
              "    <tr>\n",
              "      <th>0</th>\n",
              "      <td>2019-04-23 16:50:53.690000+00:00</td>\n",
              "      <td>33.3620</td>\n",
              "      <td>-116.396167</td>\n",
              "      <td>11.99</td>\n",
              "      <td>2.75</td>\n",
              "      <td>81.0000</td>\n",
              "      <td>27.000000</td>\n",
              "      <td>0.095190</td>\n",
              "      <td>0.21</td>\n",
              "      <td>2019-04-23 17:02:21.470000+00:00</td>\n",
              "      <td>12km N of Borrego Springs, CA</td>\n",
              "      <td>earthquake</td>\n",
              "      <td>0.210000</td>\n",
              "      <td>0.63</td>\n",
              "      <td>0.28300</td>\n",
              "      <td>26.00000</td>\n",
              "      <td>automatic</td>\n",
              "    </tr>\n",
              "    <tr>\n",
              "      <th>1</th>\n",
              "      <td>2019-04-23 16:05:21.080000+00:00</td>\n",
              "      <td>56.5228</td>\n",
              "      <td>-148.700300</td>\n",
              "      <td>20.00</td>\n",
              "      <td>3.50</td>\n",
              "      <td>25.4375</td>\n",
              "      <td>252.000000</td>\n",
              "      <td>2.464000</td>\n",
              "      <td>0.49</td>\n",
              "      <td>2019-04-23 16:17:21.040000+00:00</td>\n",
              "      <td>264km ESE of Kodiak, Alaska</td>\n",
              "      <td>earthquake</td>\n",
              "      <td>5.200000</td>\n",
              "      <td>11.90</td>\n",
              "      <td>0.05700</td>\n",
              "      <td>40.00000</td>\n",
              "      <td>reviewed</td>\n",
              "    </tr>\n",
              "    <tr>\n",
              "      <th>2</th>\n",
              "      <td>2019-04-23 15:38:57.942000+00:00</td>\n",
              "      <td>66.3164</td>\n",
              "      <td>-156.935000</td>\n",
              "      <td>0.00</td>\n",
              "      <td>3.40</td>\n",
              "      <td>25.4375</td>\n",
              "      <td>134.145455</td>\n",
              "      <td>1.994528</td>\n",
              "      <td>0.74</td>\n",
              "      <td>2019-04-23 16:07:23.672000+00:00</td>\n",
              "      <td>65km S of Kobuk, Alaska</td>\n",
              "      <td>earthquake</td>\n",
              "      <td>6.141338</td>\n",
              "      <td>0.40</td>\n",
              "      <td>0.12275</td>\n",
              "      <td>55.34632</td>\n",
              "      <td>automatic</td>\n",
              "    </tr>\n",
              "    <tr>\n",
              "      <th>3</th>\n",
              "      <td>2019-04-23 15:32:43.413000+00:00</td>\n",
              "      <td>66.2945</td>\n",
              "      <td>-157.210500</td>\n",
              "      <td>7.30</td>\n",
              "      <td>4.50</td>\n",
              "      <td>25.4375</td>\n",
              "      <td>134.145455</td>\n",
              "      <td>1.994528</td>\n",
              "      <td>0.74</td>\n",
              "      <td>2019-04-23 16:55:27.040000+00:00</td>\n",
              "      <td>69km SSW of Kobuk, Alaska</td>\n",
              "      <td>earthquake</td>\n",
              "      <td>6.141338</td>\n",
              "      <td>0.30</td>\n",
              "      <td>0.12275</td>\n",
              "      <td>55.34632</td>\n",
              "      <td>reviewed</td>\n",
              "    </tr>\n",
              "    <tr>\n",
              "      <th>4</th>\n",
              "      <td>2019-04-23 15:22:54.341000+00:00</td>\n",
              "      <td>-23.7890</td>\n",
              "      <td>179.961100</td>\n",
              "      <td>552.14</td>\n",
              "      <td>4.60</td>\n",
              "      <td>25.4375</td>\n",
              "      <td>129.000000</td>\n",
              "      <td>6.273000</td>\n",
              "      <td>0.77</td>\n",
              "      <td>2019-04-23 15:54:23.040000+00:00</td>\n",
              "      <td>South of the Fiji Islands</td>\n",
              "      <td>earthquake</td>\n",
              "      <td>13.700000</td>\n",
              "      <td>11.10</td>\n",
              "      <td>0.05000</td>\n",
              "      <td>119.00000</td>\n",
              "      <td>reviewed</td>\n",
              "    </tr>\n",
              "  </tbody>\n",
              "</table>\n",
              "</div>"
            ],
            "text/plain": [
              "                              time  latitude   longitude   depth   mag  \\\n",
              "0 2019-04-23 16:50:53.690000+00:00   33.3620 -116.396167   11.99  2.75   \n",
              "1 2019-04-23 16:05:21.080000+00:00   56.5228 -148.700300   20.00  3.50   \n",
              "2 2019-04-23 15:38:57.942000+00:00   66.3164 -156.935000    0.00  3.40   \n",
              "3 2019-04-23 15:32:43.413000+00:00   66.2945 -157.210500    7.30  4.50   \n",
              "4 2019-04-23 15:22:54.341000+00:00  -23.7890  179.961100  552.14  4.60   \n",
              "\n",
              "       nst         gap      dmin   rms                          updated  \\\n",
              "0  81.0000   27.000000  0.095190  0.21 2019-04-23 17:02:21.470000+00:00   \n",
              "1  25.4375  252.000000  2.464000  0.49 2019-04-23 16:17:21.040000+00:00   \n",
              "2  25.4375  134.145455  1.994528  0.74 2019-04-23 16:07:23.672000+00:00   \n",
              "3  25.4375  134.145455  1.994528  0.74 2019-04-23 16:55:27.040000+00:00   \n",
              "4  25.4375  129.000000  6.273000  0.77 2019-04-23 15:54:23.040000+00:00   \n",
              "\n",
              "                           place        type  horizontalError  depthError  \\\n",
              "0  12km N of Borrego Springs, CA  earthquake         0.210000        0.63   \n",
              "1    264km ESE of Kodiak, Alaska  earthquake         5.200000       11.90   \n",
              "2        65km S of Kobuk, Alaska  earthquake         6.141338        0.40   \n",
              "3      69km SSW of Kobuk, Alaska  earthquake         6.141338        0.30   \n",
              "4      South of the Fiji Islands  earthquake        13.700000       11.10   \n",
              "\n",
              "   magError     magNst     status  \n",
              "0   0.28300   26.00000  automatic  \n",
              "1   0.05700   40.00000   reviewed  \n",
              "2   0.12275   55.34632  automatic  \n",
              "3   0.12275   55.34632   reviewed  \n",
              "4   0.05000  119.00000   reviewed  "
            ]
          },
          "metadata": {
            "tags": []
          },
          "execution_count": 202
        }
      ]
    },
    {
      "metadata": {
        "id": "1m1_L0RyQDdP",
        "colab_type": "text"
      },
      "cell_type": "markdown",
      "source": [
        "<h2>Categorical Values and their statistics: </h2>\n",
        "<p> It's now the time to look into the stastical data of the categorical variables found at the type and status columns of the dataframe. We will use value_counts method to obtain the number of occurences of such variables in the specified columns. </p>"
      ]
    },
    {
      "metadata": {
        "id": "xBHPbIm-D-u2",
        "colab_type": "code",
        "outputId": "4a416f03-126e-48ff-f2d1-7467ab6cf7f6",
        "colab": {
          "base_uri": "https://localhost:8080/",
          "height": 108
        }
      },
      "cell_type": "code",
      "source": [
        "print(earth_quake_dataframe['type'].value_counts())\n",
        "print(earth_quake_dataframe['status'].value_counts())"
      ],
      "execution_count": 203,
      "outputs": [
        {
          "output_type": "stream",
          "text": [
            "earthquake    283\n",
            "Name: type, dtype: int64\n",
            "reviewed     240\n",
            "automatic     43\n",
            "Name: status, dtype: int64\n"
          ],
          "name": "stdout"
        }
      ]
    },
    {
      "metadata": {
        "id": "5PSt71kvQ5uO",
        "colab_type": "text"
      },
      "cell_type": "markdown",
      "source": [
        "<h2>Encoding the categorical variables.</h2>\n",
        "<p> Let's now encode the categorical variables to specified numerical variables. We will use the lambda function to replace the categorical values into a numerical one and update the column with the new value.</p>"
      ]
    },
    {
      "metadata": {
        "id": "MTvlaR0zEIIu",
        "colab_type": "code",
        "outputId": "4d07c14d-59c8-4176-c76c-3c8fed15e41e",
        "colab": {
          "base_uri": "https://localhost:8080/",
          "height": 249
        }
      },
      "cell_type": "code",
      "source": [
        "earth_quake_dataframe['status'] = earth_quake_dataframe['status'].apply(lambda x:1 if (x =='reviewed') else 0)\n",
        "# earth_quake_dataframe['type'] = earth_quake_dataframe['type'].apply(lambda x:1 if (x=='earthquake') else 0)\n",
        "earth_quake_dataframe.head(2)"
      ],
      "execution_count": 204,
      "outputs": [
        {
          "output_type": "execute_result",
          "data": {
            "text/html": [
              "<div>\n",
              "<style scoped>\n",
              "    .dataframe tbody tr th:only-of-type {\n",
              "        vertical-align: middle;\n",
              "    }\n",
              "\n",
              "    .dataframe tbody tr th {\n",
              "        vertical-align: top;\n",
              "    }\n",
              "\n",
              "    .dataframe thead th {\n",
              "        text-align: right;\n",
              "    }\n",
              "</style>\n",
              "<table border=\"1\" class=\"dataframe\">\n",
              "  <thead>\n",
              "    <tr style=\"text-align: right;\">\n",
              "      <th></th>\n",
              "      <th>time</th>\n",
              "      <th>latitude</th>\n",
              "      <th>longitude</th>\n",
              "      <th>depth</th>\n",
              "      <th>mag</th>\n",
              "      <th>nst</th>\n",
              "      <th>gap</th>\n",
              "      <th>dmin</th>\n",
              "      <th>rms</th>\n",
              "      <th>updated</th>\n",
              "      <th>place</th>\n",
              "      <th>type</th>\n",
              "      <th>horizontalError</th>\n",
              "      <th>depthError</th>\n",
              "      <th>magError</th>\n",
              "      <th>magNst</th>\n",
              "      <th>status</th>\n",
              "    </tr>\n",
              "  </thead>\n",
              "  <tbody>\n",
              "    <tr>\n",
              "      <th>0</th>\n",
              "      <td>2019-04-23 16:50:53.690000+00:00</td>\n",
              "      <td>33.3620</td>\n",
              "      <td>-116.396167</td>\n",
              "      <td>11.99</td>\n",
              "      <td>2.75</td>\n",
              "      <td>81.0000</td>\n",
              "      <td>27.0</td>\n",
              "      <td>0.09519</td>\n",
              "      <td>0.21</td>\n",
              "      <td>2019-04-23 17:02:21.470000+00:00</td>\n",
              "      <td>12km N of Borrego Springs, CA</td>\n",
              "      <td>earthquake</td>\n",
              "      <td>0.21</td>\n",
              "      <td>0.63</td>\n",
              "      <td>0.283</td>\n",
              "      <td>26.0</td>\n",
              "      <td>0</td>\n",
              "    </tr>\n",
              "    <tr>\n",
              "      <th>1</th>\n",
              "      <td>2019-04-23 16:05:21.080000+00:00</td>\n",
              "      <td>56.5228</td>\n",
              "      <td>-148.700300</td>\n",
              "      <td>20.00</td>\n",
              "      <td>3.50</td>\n",
              "      <td>25.4375</td>\n",
              "      <td>252.0</td>\n",
              "      <td>2.46400</td>\n",
              "      <td>0.49</td>\n",
              "      <td>2019-04-23 16:17:21.040000+00:00</td>\n",
              "      <td>264km ESE of Kodiak, Alaska</td>\n",
              "      <td>earthquake</td>\n",
              "      <td>5.20</td>\n",
              "      <td>11.90</td>\n",
              "      <td>0.057</td>\n",
              "      <td>40.0</td>\n",
              "      <td>1</td>\n",
              "    </tr>\n",
              "  </tbody>\n",
              "</table>\n",
              "</div>"
            ],
            "text/plain": [
              "                              time  latitude   longitude  depth   mag  \\\n",
              "0 2019-04-23 16:50:53.690000+00:00   33.3620 -116.396167  11.99  2.75   \n",
              "1 2019-04-23 16:05:21.080000+00:00   56.5228 -148.700300  20.00  3.50   \n",
              "\n",
              "       nst    gap     dmin   rms                          updated  \\\n",
              "0  81.0000   27.0  0.09519  0.21 2019-04-23 17:02:21.470000+00:00   \n",
              "1  25.4375  252.0  2.46400  0.49 2019-04-23 16:17:21.040000+00:00   \n",
              "\n",
              "                           place        type  horizontalError  depthError  \\\n",
              "0  12km N of Borrego Springs, CA  earthquake             0.21        0.63   \n",
              "1    264km ESE of Kodiak, Alaska  earthquake             5.20       11.90   \n",
              "\n",
              "   magError  magNst  status  \n",
              "0     0.283    26.0       0  \n",
              "1     0.057    40.0       1  "
            ]
          },
          "metadata": {
            "tags": []
          },
          "execution_count": 204
        }
      ]
    },
    {
      "metadata": {
        "id": "VC9ovRiKSbyR",
        "colab_type": "text"
      },
      "cell_type": "markdown",
      "source": [
        "<h2> One-Hot encoding of the categorical variables.</h2>\n",
        "<p>We now use a renowned method of encoding called One Hot Encoding to encode the categorical values in a model-ready form factor.</p>"
      ]
    },
    {
      "metadata": {
        "id": "g_JOdF0yENk1",
        "colab_type": "code",
        "outputId": "cedacaf1-47aa-4998-dd0d-2164a27904b2",
        "colab": {
          "base_uri": "https://localhost:8080/",
          "height": 363
        }
      },
      "cell_type": "code",
      "source": [
        "encoded_df = pd.get_dummies(earth_quake_dataframe[['type']], prefix = \"\", prefix_sep = \"\")\n",
        "earth_quake_encoded = earth_quake_dataframe.join(encoded_df)\n",
        "earth_quake_encoded.drop(['type'], axis = 1, inplace = True)\n",
        "print(earth_quake_encoded.head(2))\n",
        "print(earth_quake_encoded.columns)"
      ],
      "execution_count": 205,
      "outputs": [
        {
          "output_type": "stream",
          "text": [
            "                              time  latitude   longitude  depth   mag  \\\n",
            "0 2019-04-23 16:50:53.690000+00:00   33.3620 -116.396167  11.99  2.75   \n",
            "1 2019-04-23 16:05:21.080000+00:00   56.5228 -148.700300  20.00  3.50   \n",
            "\n",
            "       nst    gap     dmin   rms                          updated  \\\n",
            "0  81.0000   27.0  0.09519  0.21 2019-04-23 17:02:21.470000+00:00   \n",
            "1  25.4375  252.0  2.46400  0.49 2019-04-23 16:17:21.040000+00:00   \n",
            "\n",
            "                           place  horizontalError  depthError  magError  \\\n",
            "0  12km N of Borrego Springs, CA             0.21        0.63     0.283   \n",
            "1    264km ESE of Kodiak, Alaska             5.20       11.90     0.057   \n",
            "\n",
            "   magNst  status  earthquake  \n",
            "0    26.0       0           1  \n",
            "1    40.0       1           1  \n",
            "Index(['time', 'latitude', 'longitude', 'depth', 'mag', 'nst', 'gap', 'dmin',\n",
            "       'rms', 'updated', 'place', 'horizontalError', 'depthError', 'magError',\n",
            "       'magNst', 'status', 'earthquake'],\n",
            "      dtype='object')\n"
          ],
          "name": "stdout"
        }
      ]
    },
    {
      "metadata": {
        "id": "jgUhpKt0S993",
        "colab_type": "text"
      },
      "cell_type": "markdown",
      "source": [
        "<h2> Visualisation of the earthquakes around the world in a map</h2>\n",
        "<p> Here We will use the Folium package from Python to visualise the earthquake affected places around the world. We will use  Fast Marker Cluster to drastically reduce the clutter of the markers over the map and to make the map more informative. </p>"
      ]
    },
    {
      "metadata": {
        "id": "BoaVdJiuEgwk",
        "colab_type": "code",
        "outputId": "b70b0afd-7fed-492b-d5a3-2d76c4a805fc",
        "colab": {
          "base_uri": "https://localhost:8080/",
          "height": 675
        }
      },
      "cell_type": "code",
      "source": [
        "from folium.plugins import MarkerCluster\n",
        "from folium.plugins import FastMarkerCluster\n",
        "quake_map = folium.Map(location=[earth_quake_encoded['latitude'].mean(), \n",
        "                                earth_quake_encoded['longitude'].mean()], \n",
        "                                zoom_start=4)\n",
        "\n",
        "quake_map.add_child(FastMarkerCluster(earth_quake_encoded[['latitude', 'longitude']].values.tolist()))\n",
        "quake_map"
      ],
      "execution_count": 206,
      "outputs": [
        {
          "output_type": "execute_result",
          "data": {
            "text/html": [
              "<div style=\"width:100%;\"><div style=\"position:relative;width:100%;height:0;padding-bottom:60%;\"><iframe src=\"data:text/html;charset=utf-8;base64,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\" style=\"position:absolute;width:100%;height:100%;left:0;top:0;border:none !important;\" allowfullscreen webkitallowfullscreen mozallowfullscreen></iframe></div></div>"
            ],
            "text/plain": [
              "<folium.folium.Map at 0x7f5910de96a0>"
            ]
          },
          "metadata": {
            "tags": []
          },
          "execution_count": 206
        }
      ]
    },
    {
      "metadata": {
        "id": "McNDpOJrTpou",
        "colab_type": "text"
      },
      "cell_type": "markdown",
      "source": [
        "<h2> Examining relationship between variqables. </h2>\n",
        "<p> Let's visually represent the relationship among the different values of the dataset. We will examine the variables both in 2-Dimensional and 3-Dimensional form factors. </p>\n",
        "<p> Nature can't be predicted perfectly.  So, we will see irregularities in the data visualisations supporting the unpredictiveness of Nature and its elements. \n",
        "<h3> 1. Scatter Plot between Depth and Magnitude </h3>\n",
        "<p> The Scatter plot between depth and magnitude does not yeild any kind of relationship among the two prefectly. But we can analyse a linear data between the two. As the regression line shown in the illustration. However, the regression line is showing deviation in both sides of it. </p>"
      ]
    },
    {
      "metadata": {
        "id": "IXAWFcLPUnl8",
        "colab_type": "code",
        "outputId": "3aff3a73-131d-4a56-9d57-2c21ad444f51",
        "colab": {
          "base_uri": "https://localhost:8080/",
          "height": 284
        }
      },
      "cell_type": "code",
      "source": [
        "sns.scatterplot(x= earth_quake_encoded['depth'].values, y=earth_quake_encoded['mag'].values, data = earth_quake_encoded, color = 'green')\n",
        "plt.xlabel('Depth')\n",
        "plt.ylabel('Magnitude')\n",
        "plt.show()"
      ],
      "execution_count": 207,
      "outputs": [
        {
          "output_type": "display_data",
          "data": {
            "image/png": "[encoded data removed]",
            "text/plain": [
              "<Figure size 432x288 with 1 Axes>"
            ]
          },
          "metadata": {
            "tags": []
          }
        }
      ]
    },
    {
      "metadata": {
        "id": "biv2w0MoV7rv",
        "colab_type": "text"
      },
      "cell_type": "markdown",
      "source": [
        "<h3>2. Regression plot between Depth and Magnitude:</h3>\n",
        "<p> The regression plot between the depth and the magnitude values shows a linear relationship between the two, instead of showing deviations on the both sides. </p>"
      ]
    },
    {
      "metadata": {
        "id": "aP5gWBVkUqrS",
        "colab_type": "code",
        "outputId": "945e4413-1e2a-4830-f445-0f025716d41c",
        "colab": {
          "base_uri": "https://localhost:8080/",
          "height": 302
        }
      },
      "cell_type": "code",
      "source": [
        "import seaborn as sns\n",
        "reg_plot_depth_mag = pd.DataFrame(columns =['Depth', 'Magnitude'])\n",
        "reg_plot_depth_mag['Depth'] = earth_quake_encoded['depth'].values\n",
        "reg_plot_depth_mag['Magnitude'] = earth_quake_encoded['mag'].values\n",
        "\n",
        "sns.regplot(x=reg_plot_depth_mag['Depth'], y = reg_plot_depth_mag['Magnitude'], data = reg_plot_depth_mag, color = 'blue')"
      ],
      "execution_count": 208,
      "outputs": [
        {
          "output_type": "execute_result",
          "data": {
            "text/plain": [
              "<matplotlib.axes._subplots.AxesSubplot at 0x7f5910c0cc18>"
            ]
          },
          "metadata": {
            "tags": []
          },
          "execution_count": 208
        },
        {
          "output_type": "display_data",
          "data": {
            "image/png": "[encoded data removed]",
            "text/plain": [
              "<Figure size 432x288 with 1 Axes>"
            ]
          },
          "metadata": {
            "tags": []
          }
        }
      ]
    },
    {
      "metadata": {
        "id": "FO9mrIZgXuyh",
        "colab_type": "text"
      },
      "cell_type": "markdown",
      "source": [
        "<h3>3. Scatter Plot between Number of station required to measure the event versus magnitude </h3>\n",
        "<p> As we can see, there is certainly no relationship between these two variables , however we can see a linear plot at a certain point along the NST axis. But that is of course of no use. </p>"
      ]
    },
    {
      "metadata": {
        "id": "g8sqZvCnUzw8",
        "colab_type": "code",
        "outputId": "c13d036f-6cb3-4309-e81f-2b13c42a03ea",
        "colab": {
          "base_uri": "https://localhost:8080/",
          "height": 302
        }
      },
      "cell_type": "code",
      "source": [
        "reg_plot_depth_mag['NST'] = earth_quake_encoded['nst']\n",
        "sns.scatterplot(x= reg_plot_depth_mag['NST'], y = reg_plot_depth_mag['Magnitude'], data = reg_plot_depth_mag, color = 'magenta')"
      ],
      "execution_count": 209,
      "outputs": [
        {
          "output_type": "execute_result",
          "data": {
            "text/plain": [
              "<matplotlib.axes._subplots.AxesSubplot at 0x7f5910bd8780>"
            ]
          },
          "metadata": {
            "tags": []
          },
          "execution_count": 209
        },
        {
          "output_type": "display_data",
          "data": {
            "image/png": "[encoded data removed]",
            "text/plain": [
              "<Figure size 432x288 with 1 Axes>"
            ]
          },
          "metadata": {
            "tags": []
          }
        }
      ]
    },
    {
      "metadata": {
        "id": "l0JY27CUYnVd",
        "colab_type": "text"
      },
      "cell_type": "markdown",
      "source": [
        "<h2> 4. Regression plot between the Root Mean square speed of the waves and the magnitude.</h2>\n",
        "<p> The plot shows a linear regression among the two with certain deviations. But we can still ignore the irregularities due to the nature. Due to the not so significant amount of deviation along the regression line proves the linearity of the relationship. </p>"
      ]
    },
    {
      "metadata": {
        "id": "QeJCKjDTU7Dt",
        "colab_type": "code",
        "outputId": "9da2f6f5-afc6-4b49-9f4c-8180e7c07595",
        "colab": {
          "base_uri": "https://localhost:8080/",
          "height": 302
        }
      },
      "cell_type": "code",
      "source": [
        "sns.regplot(x= earth_quake_encoded['rms'], y= earth_quake_encoded['mag'], data = earth_quake_encoded, color = 'purple')"
      ],
      "execution_count": 210,
      "outputs": [
        {
          "output_type": "execute_result",
          "data": {
            "text/plain": [
              "<matplotlib.axes._subplots.AxesSubplot at 0x7f5910ba5cf8>"
            ]
          },
          "metadata": {
            "tags": []
          },
          "execution_count": 210
        },
        {
          "output_type": "display_data",
          "data": {
            "image/png": "[encoded data removed]",
            "text/plain": [
              "<Figure size 432x288 with 1 Axes>"
            ]
          },
          "metadata": {
            "tags": []
          }
        }
      ]
    },
    {
      "metadata": {
        "id": "lQSgAYy1ZVIj",
        "colab_type": "text"
      },
      "cell_type": "markdown",
      "source": [
        "<h3> 5. Regression plot between the horizontal distance of the recorded place with the depth of the rupture of the waves. </h3>\n",
        "<p> The regression plot shows a large amount of deviation meaning that the relationship among the two is not linear. </p>"
      ]
    },
    {
      "metadata": {
        "id": "56IUcd_-VGt7",
        "colab_type": "code",
        "outputId": "85c77ef6-e799-4b38-dd63-e665fe57df29",
        "colab": {
          "base_uri": "https://localhost:8080/",
          "height": 302
        }
      },
      "cell_type": "code",
      "source": [
        "sns.regplot(x= earth_quake_encoded['dmin'], y = earth_quake_encoded['depth'], data = earth_quake_encoded, color = 'magenta')"
      ],
      "execution_count": 211,
      "outputs": [
        {
          "output_type": "execute_result",
          "data": {
            "text/plain": [
              "<matplotlib.axes._subplots.AxesSubplot at 0x7f5910bd8668>"
            ]
          },
          "metadata": {
            "tags": []
          },
          "execution_count": 211
        },
        {
          "output_type": "display_data",
          "data": {
            "image/png": "[encoded data removed]",
            "text/plain": [
              "<Figure size 432x288 with 1 Axes>"
            ]
          },
          "metadata": {
            "tags": []
          }
        }
      ]
    },
    {
      "metadata": {
        "id": "ay5xYHLPaWKR",
        "colab_type": "text"
      },
      "cell_type": "markdown",
      "source": [
        "<h3>6. Regression plot between the horizontal distance and the magnitude:</h3>\n",
        "<p> The regression plot between the horizontal distance from the epicenter and the magnitude shows a linear regression plot but with higer deviations, basically implying non-linearity between the two variables. </p>"
      ]
    },
    {
      "metadata": {
        "id": "AvgW0E3saZlF",
        "colab_type": "code",
        "outputId": "61e1938a-b9db-47c4-eac6-3fad90cb7397",
        "colab": {
          "base_uri": "https://localhost:8080/",
          "height": 302
        }
      },
      "cell_type": "code",
      "source": [
        "sns.regplot(x= earth_quake_encoded['dmin'], y = earth_quake_encoded['mag'], data = earth_quake_encoded, color = 'crimson')"
      ],
      "execution_count": 212,
      "outputs": [
        {
          "output_type": "execute_result",
          "data": {
            "text/plain": [
              "<matplotlib.axes._subplots.AxesSubplot at 0x7f5910bd8da0>"
            ]
          },
          "metadata": {
            "tags": []
          },
          "execution_count": 212
        },
        {
          "output_type": "display_data",
          "data": {
            "image/png": "[encoded data removed]",
            "text/plain": [
              "<Figure size 432x288 with 1 Axes>"
            ]
          },
          "metadata": {
            "tags": []
          }
        }
      ]
    },
    {
      "metadata": {
        "id": "UU-Q6yWZpubg",
        "colab_type": "text"
      },
      "cell_type": "markdown",
      "source": [
        "<h3>7. Regression plot between azimuthal gap versus magnitude: </h3>\n",
        "<p> The regression plot shows a negative linear regression with a minimal deviation simply stating the relationship between the two a negative linear regression. Despite the deviation in the plot, the linearity is noticeable in the plot. </p>\n",
        "<p> On the other hand the negative regression signify the positive linear regression relationship between magnitude and the azimuthal gap. </p>"
      ]
    },
    {
      "metadata": {
        "id": "uFT8717pVMD8",
        "colab_type": "code",
        "outputId": "fd740fbd-e3d7-4ac7-d0df-ffc8d7740a9e",
        "colab": {
          "base_uri": "https://localhost:8080/",
          "height": 302
        }
      },
      "cell_type": "code",
      "source": [
        "sns.regplot(x= earth_quake_encoded['gap'], y = earth_quake_encoded['mag'], data = earth_quake_encoded, color = 'black')"
      ],
      "execution_count": 213,
      "outputs": [
        {
          "output_type": "execute_result",
          "data": {
            "text/plain": [
              "<matplotlib.axes._subplots.AxesSubplot at 0x7f5910c1aba8>"
            ]
          },
          "metadata": {
            "tags": []
          },
          "execution_count": 213
        },
        {
          "output_type": "display_data",
          "data": {
            "image/png": "[encoded data removed]",
            "text/plain": [
              "<Figure size 432x288 with 1 Axes>"
            ]
          },
          "metadata": {
            "tags": []
          }
        }
      ]
    },
    {
      "metadata": {
        "id": "ATAopWqvrKtf",
        "colab_type": "text"
      },
      "cell_type": "markdown",
      "source": [
        "<h3> 8. Regression Plot between error in measuring magnitude </h3>\n",
        "<p>This plot shows a negative linear regression with a minimal deviation, referring that, if the error in measuring the magnitude increases, the magnitude decreases. This is true and just basically verifying the data in the column. </p>"
      ]
    },
    {
      "metadata": {
        "id": "AXaGInMnVRqS",
        "colab_type": "code",
        "outputId": "b49d9e8b-0b1a-4043-f3c4-c07c7c0df1bd",
        "colab": {
          "base_uri": "https://localhost:8080/",
          "height": 302
        }
      },
      "cell_type": "code",
      "source": [
        "sns.regplot(x = earth_quake_encoded['magError'], y=earth_quake_encoded['mag'], color = 'orange')"
      ],
      "execution_count": 214,
      "outputs": [
        {
          "output_type": "execute_result",
          "data": {
            "text/plain": [
              "<matplotlib.axes._subplots.AxesSubplot at 0x7f5917e78e80>"
            ]
          },
          "metadata": {
            "tags": []
          },
          "execution_count": 214
        },
        {
          "output_type": "display_data",
          "data": {
            "image/png": "[encoded data removed]",
            "text/plain": [
              "<Figure size 432x288 with 1 Axes>"
            ]
          },
          "metadata": {
            "tags": []
          }
        }
      ]
    },
    {
      "metadata": {
        "id": "xFyiYnpBwZqD",
        "colab_type": "text"
      },
      "cell_type": "markdown",
      "source": [
        "<h2> Fetching data for United States only from USGS for the period of 2010-2019. </h2>\n",
        "<p> USGS's API and Website provides users the flexibility of retrieving data from its servers by specifying the location, selecting the output format. <p>\n",
        "  <p> So, we head over to <a href= 'https://earthquake.usgs.com'>USGS EARTHQUAKE DATABASE official website</a> and select the output format as CSV as well as select the location to Counterminous U.S. and hit search to fetch the data. I have already downloaded the file and saved it in a cloud bucket. Here I, just download the file, instead of repeatedly requesting through API. </p>"
      ]
    },
    {
      "metadata": {
        "id": "tv5lEy7-KApY",
        "colab_type": "code",
        "outputId": "058a49b3-92be-4b9e-9ca7-9f5b10014967",
        "colab": {
          "base_uri": "https://localhost:8080/",
          "height": 217
        }
      },
      "cell_type": "code",
      "source": [
        "!wget -O usa_earth_quakes.csv https://s3.amazonaws.com/swastiknathgroup/query.csv"
      ],
      "execution_count": 215,
      "outputs": [
        {
          "output_type": "stream",
          "text": [
            "--2019-04-27 12:28:02--  https://s3.amazonaws.com/swastiknathgroup/query.csv\n",
            "Resolving s3.amazonaws.com (s3.amazonaws.com)... 52.216.98.237\n",
            "Connecting to s3.amazonaws.com (s3.amazonaws.com)|52.216.98.237|:443... connected.\n",
            "HTTP request sent, awaiting response... 200 OK\n",
            "Length: 40908 (40K) [text/csv]\n",
            "Saving to: ‘usa_earth_quakes.csv’\n",
            "\n",
            "\rusa_earth_quakes.cs   0%[                    ]       0  --.-KB/s               \rusa_earth_quakes.cs 100%[===================>]  39.95K  --.-KB/s    in 0.06s   \n",
            "\n",
            "2019-04-27 12:28:03 (623 KB/s) - ‘usa_earth_quakes.csv’ saved [40908/40908]\n",
            "\n"
          ],
          "name": "stdout"
        }
      ]
    },
    {
      "metadata": {
        "id": "B05W23jNyonE",
        "colab_type": "text"
      },
      "cell_type": "markdown",
      "source": [
        "<h2> Printing the dataset </h2>\n",
        "<p>Let's first visualise the dataset and convert it into a pandas dataframe for easier management and access. "
      ]
    },
    {
      "metadata": {
        "id": "7wvbP9rOKNsi",
        "colab_type": "code",
        "outputId": "5397b5b3-3135-4820-817b-92de3bac8e3f",
        "colab": {
          "base_uri": "https://localhost:8080/",
          "height": 249
        }
      },
      "cell_type": "code",
      "source": [
        "usa_earthquakes = pd.read_csv('usa_earth_quakes.csv')\n",
        "usa_earthquakes.head(2)"
      ],
      "execution_count": 216,
      "outputs": [
        {
          "output_type": "execute_result",
          "data": {
            "text/html": [
              "<div>\n",
              "<style scoped>\n",
              "    .dataframe tbody tr th:only-of-type {\n",
              "        vertical-align: middle;\n",
              "    }\n",
              "\n",
              "    .dataframe tbody tr th {\n",
              "        vertical-align: top;\n",
              "    }\n",
              "\n",
              "    .dataframe thead th {\n",
              "        text-align: right;\n",
              "    }\n",
              "</style>\n",
              "<table border=\"1\" class=\"dataframe\">\n",
              "  <thead>\n",
              "    <tr style=\"text-align: right;\">\n",
              "      <th></th>\n",
              "      <th>time</th>\n",
              "      <th>latitude</th>\n",
              "      <th>longitude</th>\n",
              "      <th>depth</th>\n",
              "      <th>mag</th>\n",
              "      <th>magType</th>\n",
              "      <th>nst</th>\n",
              "      <th>gap</th>\n",
              "      <th>dmin</th>\n",
              "      <th>rms</th>\n",
              "      <th>net</th>\n",
              "      <th>id</th>\n",
              "      <th>updated</th>\n",
              "      <th>place</th>\n",
              "      <th>type</th>\n",
              "      <th>horizontalError</th>\n",
              "      <th>depthError</th>\n",
              "      <th>magError</th>\n",
              "      <th>magNst</th>\n",
              "      <th>status</th>\n",
              "      <th>locationSource</th>\n",
              "      <th>magSource</th>\n",
              "    </tr>\n",
              "  </thead>\n",
              "  <tbody>\n",
              "    <tr>\n",
              "      <th>0</th>\n",
              "      <td>2019-04-20T14:41:51.120Z</td>\n",
              "      <td>31.3561</td>\n",
              "      <td>-115.6707</td>\n",
              "      <td>10.0</td>\n",
              "      <td>4.5</td>\n",
              "      <td>mb</td>\n",
              "      <td>NaN</td>\n",
              "      <td>156.0</td>\n",
              "      <td>0.688</td>\n",
              "      <td>1.35</td>\n",
              "      <td>us</td>\n",
              "      <td>us700039mz</td>\n",
              "      <td>2019-04-24T00:24:31.561Z</td>\n",
              "      <td>67km NNE of Camalu, Mexico</td>\n",
              "      <td>earthquake</td>\n",
              "      <td>5.1</td>\n",
              "      <td>2.0</td>\n",
              "      <td>0.085</td>\n",
              "      <td>41.0</td>\n",
              "      <td>reviewed</td>\n",
              "      <td>us</td>\n",
              "      <td>us</td>\n",
              "    </tr>\n",
              "    <tr>\n",
              "      <th>1</th>\n",
              "      <td>2019-04-06T21:01:41.937Z</td>\n",
              "      <td>30.8278</td>\n",
              "      <td>-114.0297</td>\n",
              "      <td>10.0</td>\n",
              "      <td>5.2</td>\n",
              "      <td>mww</td>\n",
              "      <td>NaN</td>\n",
              "      <td>131.0</td>\n",
              "      <td>0.736</td>\n",
              "      <td>0.64</td>\n",
              "      <td>us</td>\n",
              "      <td>us2000kbgw</td>\n",
              "      <td>2019-04-19T22:29:02.353Z</td>\n",
              "      <td>71km SW of Puerto Penasco, Mexico</td>\n",
              "      <td>earthquake</td>\n",
              "      <td>2.5</td>\n",
              "      <td>1.8</td>\n",
              "      <td>0.039</td>\n",
              "      <td>62.0</td>\n",
              "      <td>reviewed</td>\n",
              "      <td>us</td>\n",
              "      <td>us</td>\n",
              "    </tr>\n",
              "  </tbody>\n",
              "</table>\n",
              "</div>"
            ],
            "text/plain": [
              "                       time  latitude  longitude  depth  mag magType  nst  \\\n",
              "0  2019-04-20T14:41:51.120Z   31.3561  -115.6707   10.0  4.5      mb  NaN   \n",
              "1  2019-04-06T21:01:41.937Z   30.8278  -114.0297   10.0  5.2     mww  NaN   \n",
              "\n",
              "     gap   dmin   rms net          id                   updated  \\\n",
              "0  156.0  0.688  1.35  us  us700039mz  2019-04-24T00:24:31.561Z   \n",
              "1  131.0  0.736  0.64  us  us2000kbgw  2019-04-19T22:29:02.353Z   \n",
              "\n",
              "                               place        type  horizontalError  depthError  \\\n",
              "0         67km NNE of Camalu, Mexico  earthquake              5.1         2.0   \n",
              "1  71km SW of Puerto Penasco, Mexico  earthquake              2.5         1.8   \n",
              "\n",
              "   magError  magNst    status locationSource magSource  \n",
              "0     0.085    41.0  reviewed             us        us  \n",
              "1     0.039    62.0  reviewed             us        us  "
            ]
          },
          "metadata": {
            "tags": []
          },
          "execution_count": 216
        }
      ]
    },
    {
      "metadata": {
        "id": "ElIkGkqvzdCj",
        "colab_type": "text"
      },
      "cell_type": "markdown",
      "source": [
        "<h2>Obtaining a cleaner dataset </h2>\n",
        "<p> In the following cell, we replace the null cell values with the column mean or with the value that has the highest occurence frequency per column. We drop unnecessary columns and data to obtain the final dataset for our work. We change columns with inappropriate datatypes to their appropriate ones for easier management. </p>"
      ]
    },
    {
      "metadata": {
        "id": "BRV9M6i0ih7y",
        "colab_type": "code",
        "outputId": "5571ff7a-3479-4d29-e8aa-04fec4ed3d0a",
        "colab": {
          "base_uri": "https://localhost:8080/",
          "height": 249
        }
      },
      "cell_type": "code",
      "source": [
        "usa_earthquakes.fillna(earth_quake_dataframe.mean(), inplace = True)\n",
        "usa_earthquakes['status'] = usa_earthquakes['status'].apply(lambda x:1 if (x =='reviewed') else 0)\n",
        "usa_earthquakes.drop(['magType', 'id', 'magSource', 'locationSource', 'net'], axis = 1, inplace = True)\n",
        "usa_earthquakes['time'] = pd.to_datetime(usa_earthquakes['time'])\n",
        "usa_earthquakes['updated'] = pd.to_datetime(usa_earthquakes['updated'])\n",
        "usa_earthquakes.head(2)"
      ],
      "execution_count": 217,
      "outputs": [
        {
          "output_type": "execute_result",
          "data": {
            "text/html": [
              "<div>\n",
              "<style scoped>\n",
              "    .dataframe tbody tr th:only-of-type {\n",
              "        vertical-align: middle;\n",
              "    }\n",
              "\n",
              "    .dataframe tbody tr th {\n",
              "        vertical-align: top;\n",
              "    }\n",
              "\n",
              "    .dataframe thead th {\n",
              "        text-align: right;\n",
              "    }\n",
              "</style>\n",
              "<table border=\"1\" class=\"dataframe\">\n",
              "  <thead>\n",
              "    <tr style=\"text-align: right;\">\n",
              "      <th></th>\n",
              "      <th>time</th>\n",
              "      <th>latitude</th>\n",
              "      <th>longitude</th>\n",
              "      <th>depth</th>\n",
              "      <th>mag</th>\n",
              "      <th>nst</th>\n",
              "      <th>gap</th>\n",
              "      <th>dmin</th>\n",
              "      <th>rms</th>\n",
              "      <th>updated</th>\n",
              "      <th>place</th>\n",
              "      <th>type</th>\n",
              "      <th>horizontalError</th>\n",
              "      <th>depthError</th>\n",
              "      <th>magError</th>\n",
              "      <th>magNst</th>\n",
              "      <th>status</th>\n",
              "    </tr>\n",
              "  </thead>\n",
              "  <tbody>\n",
              "    <tr>\n",
              "      <th>0</th>\n",
              "      <td>2019-04-20 14:41:51.120000+00:00</td>\n",
              "      <td>31.3561</td>\n",
              "      <td>-115.6707</td>\n",
              "      <td>10.0</td>\n",
              "      <td>4.5</td>\n",
              "      <td>25.4375</td>\n",
              "      <td>156.0</td>\n",
              "      <td>0.688</td>\n",
              "      <td>1.35</td>\n",
              "      <td>2019-04-24 00:24:31.561000+00:00</td>\n",
              "      <td>67km NNE of Camalu, Mexico</td>\n",
              "      <td>earthquake</td>\n",
              "      <td>5.1</td>\n",
              "      <td>2.0</td>\n",
              "      <td>0.085</td>\n",
              "      <td>41.0</td>\n",
              "      <td>1</td>\n",
              "    </tr>\n",
              "    <tr>\n",
              "      <th>1</th>\n",
              "      <td>2019-04-06 21:01:41.937000+00:00</td>\n",
              "      <td>30.8278</td>\n",
              "      <td>-114.0297</td>\n",
              "      <td>10.0</td>\n",
              "      <td>5.2</td>\n",
              "      <td>25.4375</td>\n",
              "      <td>131.0</td>\n",
              "      <td>0.736</td>\n",
              "      <td>0.64</td>\n",
              "      <td>2019-04-19 22:29:02.353000+00:00</td>\n",
              "      <td>71km SW of Puerto Penasco, Mexico</td>\n",
              "      <td>earthquake</td>\n",
              "      <td>2.5</td>\n",
              "      <td>1.8</td>\n",
              "      <td>0.039</td>\n",
              "      <td>62.0</td>\n",
              "      <td>1</td>\n",
              "    </tr>\n",
              "  </tbody>\n",
              "</table>\n",
              "</div>"
            ],
            "text/plain": [
              "                              time  latitude  longitude  depth  mag      nst  \\\n",
              "0 2019-04-20 14:41:51.120000+00:00   31.3561  -115.6707   10.0  4.5  25.4375   \n",
              "1 2019-04-06 21:01:41.937000+00:00   30.8278  -114.0297   10.0  5.2  25.4375   \n",
              "\n",
              "     gap   dmin   rms                          updated  \\\n",
              "0  156.0  0.688  1.35 2019-04-24 00:24:31.561000+00:00   \n",
              "1  131.0  0.736  0.64 2019-04-19 22:29:02.353000+00:00   \n",
              "\n",
              "                               place        type  horizontalError  depthError  \\\n",
              "0         67km NNE of Camalu, Mexico  earthquake              5.1         2.0   \n",
              "1  71km SW of Puerto Penasco, Mexico  earthquake              2.5         1.8   \n",
              "\n",
              "   magError  magNst  status  \n",
              "0     0.085    41.0       1  \n",
              "1     0.039    62.0       1  "
            ]
          },
          "metadata": {
            "tags": []
          },
          "execution_count": 217
        }
      ]
    },
    {
      "metadata": {
        "id": "mZ-fuHPP0h_N",
        "colab_type": "text"
      },
      "cell_type": "markdown",
      "source": [
        "<h2> Plotting Magnitudes in a timeframe: </h2>\n",
        "<p> We use the scripting layer of Matplotlib to generate a timeframe of the magnitudes recorded in the dataset. We change the datetime(64) object into int objkect by using the matplotlib's dates.date2num function.  Next we use the scripting layer and pass in the required arguments. </p>"
      ]
    },
    {
      "metadata": {
        "id": "lOQ0-Qfai8QY",
        "colab_type": "code",
        "outputId": "113910f0-445c-48a8-dcb4-bbd78ebc22a9",
        "colab": {
          "base_uri": "https://localhost:8080/",
          "height": 287
        }
      },
      "cell_type": "code",
      "source": [
        "time_vs_mag_bar = pd.DataFrame(columns = {'time', 'mag'})\n",
        "time_vs_mag_bar['time'] = usa_earthquakes['time']\n",
        "time_vs_mag_bar['mag'] = usa_earthquakes['mag']\n",
        "time_vs_mag_bar.to_csv('time_vs_mag.csv')\n",
        "\n",
        "dates = mpl.dates.date2num(time_vs_mag_bar['time'].values)\n",
        "plt.plot_date(dates, usa_earthquakes['mag'])\n",
        "# import seaborn\n",
        "# plt.figure(figsize = (100, 100))\n",
        "# seaborn.barplot(x = time_vs_mag_bar['time'], y = time_vs_mag_bar['mag'], data = time_vs_mag_bar, ci = 'sd')"
      ],
      "execution_count": 218,
      "outputs": [
        {
          "output_type": "execute_result",
          "data": {
            "text/plain": [
              "[<matplotlib.lines.Line2D at 0x7f591185aa58>]"
            ]
          },
          "metadata": {
            "tags": []
          },
          "execution_count": 218
        },
        {
          "output_type": "display_data",
          "data": {
            "image/png": "[encoded data removed]",
            "text/plain": [
              "<Figure size 432x288 with 1 Axes>"
            ]
          },
          "metadata": {
            "tags": []
          }
        }
      ]
    },
    {
      "metadata": {
        "id": "CHuLRe1W3d_l",
        "colab_type": "text"
      },
      "cell_type": "markdown",
      "source": [
        "<h2> Generating the series plot for a better time-frame visualistation. </h2>\n",
        "<p> We directly pass in the CSV file containnig the dataset to pandas form a Series object and matplotlib is intelligent enough to show the continuous flow of magnitude in a lower scale with respect to time automatically converted to an int object. <p>\n",
        "  \n",
        "  <p> In the following plot, we get a continuous plot of the magnitudes with respect to time. </p>"
      ]
    },
    {
      "metadata": {
        "id": "Pl285IMaliGo",
        "colab_type": "code",
        "outputId": "310228ba-d057-41c6-9817-a4569073e81c",
        "colab": {
          "base_uri": "https://localhost:8080/",
          "height": 330
        }
      },
      "cell_type": "code",
      "source": [
        "from pandas import Series\n",
        "series = Series.from_csv('usa_earth_quakes.csv', header=0)\n",
        "series.plot(style='-')\n",
        "plt.show()"
      ],
      "execution_count": 219,
      "outputs": [
        {
          "output_type": "stream",
          "text": [
            "/usr/local/lib/python3.6/dist-packages/pandas/core/series.py:4141: FutureWarning: from_csv is deprecated. Please use read_csv(...) instead. Note that some of the default arguments are different, so please refer to the documentation for from_csv when changing your function calls\n",
            "  infer_datetime_format=infer_datetime_format)\n"
          ],
          "name": "stderr"
        },
        {
          "output_type": "display_data",
          "data": {
            "image/png": "[encoded data removed]",
            "text/plain": [
              "<Figure size 432x288 with 1 Axes>"
            ]
          },
          "metadata": {
            "tags": []
          }
        }
      ]
    },
    {
      "metadata": {
        "id": "uomxLg7Z6AUO",
        "colab_type": "text"
      },
      "cell_type": "markdown",
      "source": [
        "<h2> 3 Dimensional Visualisation of Depth vs. Root Mean Square Speed vs. Magnitude: </h2>\n",
        "<p> Here we plot Depth in the X-Axis, Root Mean Square Speed in the Y-Axis and Magnitude of the recorded event in the Z-Axis to obtain a 3 dimensional plot for better understanding the realtionship between the varaiables. </p>"
      ]
    },
    {
      "metadata": {
        "id": "PH47zsGb9g0V",
        "colab_type": "code",
        "outputId": "6fbed7e8-1d1e-4076-ef4a-1c6a242ae5f0",
        "colab": {
          "base_uri": "https://localhost:8080/",
          "height": 357
        }
      },
      "cell_type": "code",
      "source": [
        "from mpl_toolkits.mplot3d import Axes3D\n",
        "fig = plt.figure(figsize = (8, 6))\n",
        "ax = fig.add_subplot(111, projection = '3d')\n",
        "ax.set_xlabel('Depth')\n",
        "ax.set_ylabel('RMS')\n",
        "ax.set_zlabel('Magnitude')\n",
        "ax.scatter(usa_earthquakes['depth'], usa_earthquakes['rms'], usa_earthquakes['mag'])\n",
        "plt.show()"
      ],
      "execution_count": 220,
      "outputs": [
        {
          "output_type": "display_data",
          "data": {
            "image/png": "[encoded data removed]",
            "text/plain": [
              "<Figure size 576x432 with 1 Axes>"
            ]
          },
          "metadata": {
            "tags": []
          }
        }
      ]
    },
    {
      "metadata": {
        "id": "ZlA0y9b07uTr",
        "colab_type": "text"
      },
      "cell_type": "markdown",
      "source": [
        "<h2> 3 Dimensional Visualisation of Gap vs. Number of Station Required vs. Magnitude: </h2>\n",
        "<p> Here we plot Depth in the X-Axis, Root Mean Square Speed in the Y-Axis and Magnitude of the recorded event in the Z-Axis to obtain a 3 dimensional plot for better understanding the realtionship between the varaiables. </p>"
      ]
    },
    {
      "metadata": {
        "id": "XkfB8gUo-tw9",
        "colab_type": "code",
        "outputId": "55d6c7de-4249-4dab-fb7d-87c80a5d58a6",
        "colab": {
          "base_uri": "https://localhost:8080/",
          "height": 357
        }
      },
      "cell_type": "code",
      "source": [
        "fig = plt.figure(figsize = (8, 6))\n",
        "ax = fig.add_subplot(111, projection = '3d')\n",
        "ax.scatter(usa_earthquakes['gap'], usa_earthquakes['nst'], usa_earthquakes['mag'])\n",
        "ax.set_xlabel('Gap')\n",
        "ax.set_ylabel('Nst')\n",
        "ax.set_zlabel('Magnitude')\n",
        "plt.show()"
      ],
      "execution_count": 221,
      "outputs": [
        {
          "output_type": "display_data",
          "data": {
            "image/png": "[encoded data removed]",
            "text/plain": [
              "<Figure size 576x432 with 1 Axes>"
            ]
          },
          "metadata": {
            "tags": []
          }
        }
      ]
    },
    {
      "metadata": {
        "id": "5MxJm_wh791c",
        "colab_type": "text"
      },
      "cell_type": "markdown",
      "source": [
        "<h2>Visulaisation of Earthquakes across USA : </h2>\n",
        "<p> Let's visualise the earthquakes from the dataset in a map to get a real-world look at the places mostly affected. To de-clutter the map, I have used FastMarkerCluster to cluster the markers and unfold them with respect to the zooming. </p>"
      ]
    },
    {
      "metadata": {
        "id": "3t2Y9ZC9Loni",
        "colab_type": "code",
        "outputId": "5201775e-54ea-41cd-e795-b66d5c210bc2",
        "colab": {
          "base_uri": "https://localhost:8080/",
          "height": 675
        }
      },
      "cell_type": "code",
      "source": [
        "from folium.plugins import MarkerCluster\n",
        "from folium.plugins import FastMarkerCluster\n",
        "usa_quake_map = folium.Map(location=[usa_earthquakes['latitude'].mean(), \n",
        "                                usa_earthquakes['longitude'].mean()], \n",
        "                                zoom_start=4)\n",
        "\n",
        "usa_quake_map.add_child(FastMarkerCluster(usa_earthquakes[['latitude', 'longitude']].values.tolist()))\n",
        "usa_quake_map"
      ],
      "execution_count": 222,
      "outputs": [
        {
          "output_type": "execute_result",
          "data": {
            "text/html": [
              "<div style=\"width:100%;\"><div style=\"position:relative;width:100%;height:0;padding-bottom:60%;\"><iframe src=\"data:text/html;charset=utf-8;base64,PCFET0NUWVBFIGh0bWw+CjxoZWFkPiAgICAKICAgIDxtZXRhIGh0dHAtZXF1aXY9ImNvbnRlbnQtdHlwZSIgY29udGVudD0idGV4dC9odG1sOyBjaGFyc2V0PVVURi04IiAvPgogICAgPHNjcmlwdD5MX1BSRUZFUl9DQU5WQVM9ZmFsc2U7IExfTk9fVE9VQ0g9ZmFsc2U7IExfRElTQUJMRV8zRD1mYWxzZTs8L3NjcmlwdD4KICAgIDxzY3JpcHQgc3JjPSJodHRwczovL2Nkbi5qc2RlbGl2ci5uZXQvbnBtL2xlYWZsZXRAMS40LjAvZGlzdC9sZWFmbGV0LmpzIj48L3NjcmlwdD4KICAgIDxzY3JpcHQgc3JjPSJodHRwczovL2NvZGUuanF1ZXJ5LmNvbS9qcXVlcnktMS4xMi40Lm1pbi5qcyI+PC9zY3JpcHQ+CiAgICA8c2NyaXB0IHNyYz0iaHR0cHM6Ly9tYXhjZG4uYm9vdHN0cmFwY2RuLmNvbS9ib290c3RyYXAvMy4yLjAvanMvYm9vdHN0cmFwLm1pbi5qcyI+PC9zY3JpcHQ+CiAgICA8c2NyaXB0IHNyYz0iaHR0cHM6Ly9jZG5qcy5jbG91ZGZsYXJlLmNvbS9hamF4L2xpYnMvTGVhZmxldC5hd2Vzb21lLW1hcmtlcnMvMi4wLjIvbGVhZmxldC5hd2Vzb21lLW1hcmtlcnMuanMiPjwvc2NyaXB0PgogICAgPGxpbmsgcmVsPSJzdHlsZXNoZWV0IiBocmVmPSJodHRwczovL2Nkbi5qc2RlbGl2ci5uZXQvbnBtL2xlYWZsZXRAMS40LjAvZGlzdC9sZWFmbGV0LmNzcyIvPgogICAgPGxpbmsgcmVsPSJzdHlsZXNoZWV0IiBocmVmPSJodHRwczovL21heGNkbi5ib290c3RyYXBjZG4uY29tL2Jvb3RzdHJhcC8zLjIuMC9jc3MvYm9vdHN0cmFwLm1pbi5jc3MiLz4KICAgIDxsaW5rIHJlbD0ic3R5bGVzaGVldCIgaHJlZj0iaHR0cHM6Ly9tYXhjZG4uYm9vdHN0cmFwY2RuLmNvbS9ib290c3RyYXAvMy4yLjAvY3NzL2Jvb3RzdHJhcC10aGVtZS5taW4uY3NzIi8+CiAgICA8bGluayByZWw9InN0eWxlc2hlZXQiIGhyZWY9Imh0dHBzOi8vbWF4Y2RuLmJvb3RzdHJhcGNkbi5jb20vZm9udC1hd2Vzb21lLzQuNi4zL2Nzcy9mb250LWF3ZXNvbWUubWluLmNzcyIvPgogICAgPGxpbmsgcmVsPSJzdHlsZXNoZWV0IiBocmVmPSJodHRwczovL2NkbmpzLmNsb3VkZmxhcmUuY29tL2FqYXgvbGlicy9MZWFmbGV0LmF3ZXNvbWUtbWFya2Vycy8yLjAuMi9sZWFmbGV0LmF3ZXNvbWUtbWFya2Vycy5jc3MiLz4KICAgIDxsaW5rIHJlbD0ic3R5bGVzaGVldCIgaHJlZj0iaHR0cHM6Ly9yYXdjZG4uZ2l0aGFjay5jb20vcHl0aG9uLXZpc3VhbGl6YXRpb24vZm9saXVtL21hc3Rlci9mb2xpdW0vdGVtcGxhdGVzL2xlYWZsZXQuYXdlc29tZS5yb3RhdGUuY3NzIi8+CiAgICA8c3R5bGU+aHRtbCwgYm9keSB7d2lkdGg6IDEwMCU7aGVpZ2h0OiAxMDAlO21hcmdpbjogMDtwYWRkaW5nOiAwO308L3N0eWxlPgogICAgPHN0eWxlPiNtYXAge3Bvc2l0aW9uOmFic29sdXRlO3RvcDowO2JvdHRvbTowO3JpZ2h0OjA7bGVmdDowO308L3N0eWxlPgogICAgCiAgICA8bWV0YSBuYW1lPSJ2aWV3cG9ydCIgY29udGVudD0id2lkdGg9ZGV2aWNlLXdpZHRoLAogICAgICAgIGluaXRpYWwtc2NhbGU9MS4wLCBtYXhpbXVtLXNjYWxlPTEuMCwgdXNlci1zY2FsYWJsZT1ubyIgLz4KICAgIDxzdHlsZT4jbWFwXzI2YWRiMjJkNDYyZjQzNmU4MWM2MTJjMmY5ZTcwMDEwIHsKICAgICAgICBwb3NpdGlvbjogcmVsYXRpdmU7CiAgICAgICAgd2lkdGg6IDEwMC4wJTsKICAgICAgICBoZWlnaHQ6IDEwMC4wJTsKICAgICAgICBsZWZ0OiAwLjAlOwogICAgICAgIHRvcDogMC4wJTsKICAgICAgICB9CiAgICA8L3N0eWxlPgogICAgPHNjcmlwdCBzcmM9Imh0dHBzOi8vY2RuanMuY2xvdWRmbGFyZS5jb20vYWpheC9saWJzL2xlYWZsZXQubWFya2VyY2x1c3Rlci8xLjEuMC9sZWFmbGV0Lm1hcmtlcmNsdXN0ZXIuanMiPjwvc2NyaXB0PgogICAgPGxpbmsgcmVsPSJzdHlsZXNoZWV0IiBocmVmPSJodHRwczovL2NkbmpzLmNsb3VkZmxhcmUuY29tL2FqYXgvbGlicy9sZWFmbGV0Lm1hcmtlcmNsdXN0ZXIvMS4xLjAvTWFya2VyQ2x1c3Rlci5jc3MiLz4KICAgIDxsaW5rIHJlbD0ic3R5bGVzaGVldCIgaHJlZj0iaHR0cHM6Ly9jZG5qcy5jbG91ZGZsYXJlLmNvbS9hamF4L2xpYnMvbGVhZmxldC5tYXJrZXJjbHVzdGVyLzEuMS4wL01hcmtlckNsdXN0ZXIuRGVmYXVsdC5jc3MiLz4KPC9oZWFkPgo8Ym9keT4gICAgCiAgICAKICAgIDxkaXYgY2xhc3M9ImZvbGl1bS1tYXAiIGlkPSJtYXBfMjZhZGIyMmQ0NjJmNDM2ZTgxYzYxMmMyZjllNzAwMTAiID48L2Rpdj4KPC9ib2R5Pgo8c2NyaXB0PiAgICAKICAgIAogICAgCiAgICAgICAgdmFyIGJvdW5kcyA9IG51bGw7CiAgICAKCiAgICB2YXIgbWFwXzI2YWRiMjJkNDYyZjQzNmU4MWM2MTJjMmY5ZTcwMDEwID0gTC5tYXAoCiAgICAgICAgJ21hcF8yNmFkYjIyZDQ2MmY0MzZlODFjNjEyYzJmOWU3MDAxMCcsIHsKICAgICAgICBjZW50ZXI6IFszMi43MDA1NDgyNzU4NjIwNzYsIC0xMTAuNzc5MDQyOTU3NzU4NjJdLAogICAgICAgIHpvb206IDQsCiAgICAgICAgbWF4Qm91bmRzOiBib3VuZHMsCiAgICAgICAgbGF5ZXJzOiBbXSwKICAgICAgICB3b3JsZENvcHlKdW1wOiBmYWxzZSwKICAgICAgICBjcnM6IEwuQ1JTLkVQU0czODU3LAogICAgICAgIHpvb21Db250cm9sOiB0cnVlLAogICAgICAgIH0pOwoKCiAgICAKICAgIHZhciB0aWxlX2xheWVyXzVkM2MwNjA4MzE1ZjRhOTJiYjg1OTdlZTcyMmY1MmU5ID0gTC50aWxlTGF5ZXIoCiAgICAgICAgJ2h0dHBzOi8ve3N9LnRpbGUub3BlbnN0cmVldG1hcC5vcmcve3p9L3t4fS97eX0ucG5nJywKICAgICAgICB7CiAgICAgICAgImF0dHJpYnV0aW9uIjogbnVsbCwKICAgICAgICAiZGV0ZWN0UmV0aW5hIjogZmFsc2UsCiAgICAgICAgIm1heE5hdGl2ZVpvb20iOiAxOCwKICAgICAgICAibWF4Wm9vbSI6IDE4LAogICAgICAgICJtaW5ab29tIjogMCwKICAgICAgICAibm9XcmFwIjogZmFsc2UsCiAgICAgICAgIm9wYWNpdHkiOiAxLAogICAgICAgICJzdWJkb21haW5zIjogImFiYyIsCiAgICAgICAgInRtcyI6IGZhbHNlCn0pLmFkZFRvKG1hcF8yNmFkYjIyZDQ2MmY0MzZlODFjNjEyYzJmOWU3MDAxMCk7CiAgICAKCiAgICAgICAgICAgIHZhciBmYXN0X21hcmtlcl9jbHVzdGVyXzMyMzA0MDc3ZTVlMDRkMDc5MTU0NGRiOGMwYmY0M2NkID0gKGZ1bmN0aW9uKCl7CiAgICAgICAgICAgICAgICAKICAgICAgICAgICAgICAgIHZhciBjYWxsYmFjayA9IGZ1bmN0aW9uIChyb3cpIHsKICAgICAgICAgICAgICAgICAgICB2YXIgaWNvbiA9IEwuQXdlc29tZU1hcmtlcnMuaWNvbigpOwogICAgICAgICAgICAgICAgICAgIHZhciBtYXJrZXIgPSBMLm1hcmtlcihuZXcgTC5MYXRMbmcocm93WzBdLCByb3dbMV0pKTsKICAgICAgICAgICAgICAgICAgICBtYXJrZXIuc2V0SWNvbihpY29uKTsKICAgICAgICAgICAgICAgICAgICByZXR1cm4gbWFya2VyOwogICAgICAgICAgICAgICAgfTsKCiAgICAgICAgICAgICAgICB2YXIgZGF0YSA9IFtbMzEuMzU2MSwgLTExNS42NzA3XSwgWzMwLjgyNzgsIC0xMTQuMDI5N10sIFsyOS42MzU2LCAtMTE0LjEzMDFdLCBbMzcuMjMxOCwgLTczLjAwOTddLCBbMjYuMTYyMiwgLTExMC42NjIxXSwgWzI2LjM1ODgsIC0xMTAuNzM3N10sIFszMi4yMDY1LCAtMTE1LjI1MzVdLCBbMjUuOTgyNCwgLTExMC40ODk4XSwgWzMxLjM5ODYsIC0xMTQuMzk0MV0sIFszNS44OTQ1LCAtMTE1Ljc3NThdLCBbMjcuODcxLCAtODguNjc3OF0sIFszNi4yMTg1LCAtOTcuNTczNV0sIFszNi4yODk2LCAtOTcuNTE2Nl0sIFszMy44Mzc1LCAtMTE5LjcyNTgzMzI5OTk5OTk5XSwgWzQwLjQyNzgzMzI5OTk5OTk5NiwgLTEyNC41MTA4MzMyOTk5OTk5OV0sIFszMS4wOTM1LCAtMTE0LjI3NV0sIFszMC4yMzAyLCAtMTE0LjI0NjhdLCBbMjYuNjM2MiwgLTExMS4wMjYzXSwgWzI2LjYwNjcsIC0xMTEuMTMxMl0sIFsyNi42ODYyLCAtMTExLjA3ODVdLCBbMzYuNjMwNSwgLTEyMS4yNDQzMzMzXSwgWzQyLjU0NywgLTExMS40Mzk3XSwgWzQyLjYwNzQsIC0xMTEuNDcwMV0sIFs0Mi41NjI5LCAtMTExLjQxNTVdLCBbNDIuNTcxOTk5OTk5OTk5OTk2LCAtMTExLjQ0NDRdLCBbNDIuNjIxMywgLTExMS40NTE2XSwgWzQyLjYzODEsIC0xMTEuNDczOTk5OTk5OTk5OTldLCBbNDIuNjEzNywgLTExMS40Mjg3XSwgWzQyLjY0NzQsIC0xMTEuNDQ5Ml0sIFs0Ni44MTI4LCAtMTEyLjY2NV0sIFs0Ni44ODExLCAtMTEyLjU3NTNdLCBbMjUuNzEyNywgLTExMC4wMjM3XSwgWzM4LjM3NzcsIC0xMTguODk1N10sIFszOC4zOTA0LCAtMTE4Ljg5NzJdLCBbMzguMzc1NSwgLTExOC44OTg5XSwgWzM4LjgyMjE2NjcwMDAwMDAwNCwgLTEyMi44NDEzMzMyOTk5OTk5OV0sIFsyNS4xMTc0LCAtMTA5LjQ5ODddLCBbMjQuNjczMDAwMDAwMDAwMDAyLCAtMTA5LjE5MDFdLCBbMzUuOTkwNywgLTk2LjgwM10sIFsyNS4wOTEyLCAtMTA5LjYzMTVdLCBbMjUuNDc2LCAtMTA5LjczNDZdLCBbMzYuNDI1MSwgLTk2LjkyOTFdLCBbNDMuMjIyNiwgLTExMC4zNTkzXSwgWzMwLjYzNjgsIC0xMTQuMzE0NV0sIFszOS4zMjkzMzMzLCAtMTIyLjgwMTgzMzI5OTk5OTk4XSwgWzQwLjcyNDMzMzMsIC0xMjMuODkxODMzMjk5OTk5OTldLCBbMzguNjUxNiwgLTExOC43OTQzXSwgWzMzLjQzMTUsIC0xMTYuNDQyNjY2NzAwMDAwMDJdLCBbMzAuMjA3MywgLTExNC4zMDc4XSwgWzMwLjIyMTksIC0xMTQuMjc4M10sIFszNS41NDIzMzMyOTk5OTk5OTYsIC0xMTkuMzcyODMzMjk5OTk5OThdLCBbMzcuMjAyMzMzMywgLTExOC40MDM1XSwgWzM2LjQ4OTgsIC05OC43MDldLCBbMzYuNDk1NSwgLTk4LjcyNTRdLCBbNDguNTg2NSwgLTEyMy4zMDAzMzMyOTk5OTk5OV0sIFsyNS42NTU5LCAtMTIwLjkyNDNdLCBbMzYuNzUwOSwgLTk4LjA1NjFdLCBbMzYuNjYwMiwgLTk4LjQ1OTRdLCBbNDEuODU5NCwgLTExOS42MjcxXSwgWzI0LjkwMzksIC0xMDkuMzE1NF0sIFsyNC45NTI5LCAtMTA5LjcxMTldLCBbMjQuOTEzLCAtMTA5LjYyMjZdLCBbMjQuODA5NCwgLTEwOS41MTM4XSwgWzI0LjkwNTYsIC0xMDkuNjk4NV0sIFszNS45ODg5LCAtOTcuNTcxN10sIFs0MS44ODc1LCAtMTE5LjYyMjZdLCBbMjUuNDM0OCwgLTEwOS42ODU5XSwgWzQxLjg5ODYsIC0xMTkuNjM2N10sIFszNy4yOTI1LCAtMTE0LjY1NDZdLCBbMzcuMTQxOCwgLTExNy4yNjE4XSwgWzMxLjUyMzY2NjcwMDAwMDAwMywgLTExNS42NzQzMzMyOTk5OTk5OV0sIFs0MC4zMTc4MzMzLCAtMTI0LjYwNjY2NjcwMDAwMDAyXSwgWzQxLjg4MzMsIC0xMTkuNjMzMl0sIFs0NC41MDc0LCAtMTE0LjExMjAwMDAwMDAwMDAxXSwgWzM1LjA0MjMsIC0xMTEuNzI3Nl0sIFs0MS45MDA5LCAtMTE5LjYyMjRdLCBbMzcuMjcxMywgLTk3LjYyMDZdLCBbNDEuODgwNSwgLTExOS42Mjk5XSwgWzQxLjkwNjEsIC0xMTkuNjU3M10sIFs0MS45MDc4LCAtMTE5LjYyMDJdLCBbMzAuNTYzNywgLTExNC4yODY1XSwgWzMwLjYzMDMsIC0xMTQuMjMwNF0sIFszMC44MzE2LCAtMTEzLjg1NzRdLCBbMzAuNDIwOSwgLTExNC4yNzQ5XSwgWzMwLjMzNTUsIC0xMTMuOTk2MzMzMjk5OTk5OTldLCBbMzAuNTgyNSwgLTExNC4yMzgxXSwgWzMwLjU2OTcsIC0xMTQuMjg3M10sIFszOC4yMTUxNjY3MDAwMDAwMDUsIC0xMjIuMzEyMzMzMjk5OTk5OTldLCBbMjcuNjgxNCwgLTExMS42MzE5XSwgWzI1Ljg5NTUsIC0xMTAuNDU5Ml0sIFszNC4yODIzMzMzLCAtMTE3LjAyNjY2NjddLCBbMzIuNTgyMiwgLTEwOS4xNjgyXSwgWzQ0LjYyLCAtMTE0LjMzXSwgWzQ0Ljc3MjE2NjcsIC0xMTAuNjg0NjY2NzAwMDAwMDFdLCBbMzMuOTMyNSwgLTExNy45MTU4MzMyOTk5OTk5OV0sIFszMC40NCwgLTExNC4wNjMzXSwgWzMwLjQxOSwgLTExNC4wNjIwMDAwMDAwMDAwMV0sIFszMC40MDc1LCAtMTE0LjA4MjhdLCBbMzEuMzIyOCwgLTExOS40MDk0XSwgWzI3LjY4MzMsIC0xMDUuNzExOF0sIFszOC44MTM1LCAtMTIyLjgxNjE2NjcwMDAwMDAxXSwgWzI3Ljg5MDgsIC0xMTEuOTYwN10sIFsyNS43MTk0LCAtNjYuNjA1Nl0sIFszMS4yMiwgLTExNS45MDc5OTk5OTk5OTk5OV0sIFszNS42MDczLCAtOTcuMzg2M10sIFszMC4wNzk4LCAtMTEzLjUwNjZdLCBbMjYuMDkxMywgLTExMC4zMjA5XSwgWzQwLjk4MzUsIC0xMjQuNzQ5ODMzMjk5OTk5OTldLCBbMjcuODE3MywgLTEwNS42NDIwMDAwMDAwMDAwMV0sIFs0Mi45NzQ1LCAtMTA5LjEyNzk5OTk5OTk5OTk5XSwgWzI3Ljg0NDgsIC0xMDUuNjYwM10sIFsyNy44MDEzLCAtMTA1LjY3OTRdLCBbMjcuNzg1OCwgLTEwNS43MTA0XSwgWzMwLjA1NSwgLTExNC4xNjFdLCBbMzQuNDA2MTY2NywgLTExOS45MTk4MzMzXSwgWzQwLjE4MjY2NjcsIC0xMjEuMDcxODMzMjk5OTk5OThdLCBbNDAuMTg3NSwgLTEyMS4wNjUzMzMyOTk5OTk5OV0sIFs0MC4xOTE4MzMzLCAtMTIxLjA1OTVdLCBbNDUuNzU2ODMzMywgLTc2LjM1MzMzMzNdLCBbMzMuNTAwODMzMywgLTExNi40NTgxNjY3XSwgWzM4LjAyMjIsIC0xMTguMDU1M10sIFsyNS43NzMwMDAwMDAwMDAwMDMsIC0xMTAuMTI2XSwgWzI1Ljg5MSwgLTExMC4xMDNdLCBbMjcuNDEyLCAtMTExLjZdLCBbMzEuMDk1LCAtMTE5LjY2XSwgWzM2LjMwOTY2NjcsIC0xMjAuODU2MDAwMDAwMDAwMDFdLCBbNDMuNTk3MzMzMjk5OTk5OTk1LCAtNzAuNjU2XSwgWzI1LjE2MiwgLTExMy4wNTVdLCBbMjUuMTI3LCAtMTA5LjU3NF0sIFsyNC44NCwgLTExMC4yNV0sIFsyNC42MjcsIC0xMTAuMjVdLCBbMjQuNjY2LCAtMTEwLjE3Mjk5OTk5OTk5OTk5XSwgWzM5LjE2NzgzMzMsIC0xMjMuMTY1ODMzMjk5OTk5OTldLCBbMzAuMzU3LCAtMTEzLjk5NzAwMDAwMDAwMDAxXSwgWzMwLjU0NSwgLTExMy45MDg5OTk5OTk5OTk5OV0sIFszMC41NTEsIC0xMTMuODldLCBbMzMuMDIxMTY2NywgLTExNS41MTk1XSwgWzMzLjAyOCwgLTExNS41MzA1XSwgWzMzLjAxODUsIC0xMTUuNTQwMzMzMjk5OTk5OTldLCBbMzMuMDEzNSwgLTExNS41NTkxNjY3MDAwMDAwMl0sIFszMy4wMTcxNjY3MDAwMDAwMDQsIC0xMTUuNTUzNjY2NzAwMDAwMDFdLCBbMzMuMDE1ODMzMywgLTExNS41MzYzMzMyOTk5OTk5OF0sIFsyNC45OTkwMDAwMDAwMDAwMDIsIC0xMDkuMzkxXSwgWzMyLjIxMzE2NjcsIC0xMTUuMjg4NjY2NzAwMDAwMDFdLCBbMzIuMjA3MTY2NywgLTExNS4zNDMxNjY3MDAwMDAwMV0sIFszMS45MjYsIC05NC4zNjldLCBbMjYuODgxOTk5OTk5OTk5OTk4LCAtMTExLjQ0N10sIFsyOC43MTQwMDAwMDAwMDAwMDIsIC0xMTMuMDddLCBbMjguNjk1OTk5OTk5OTk5OTk4LCAtMTEzLjEwNF0sIFsyOC43MjMwMDAwMDAwMDAwMDMsIC0xMTMuMTQ2XSwgWzI4LjgzNywgLTExMy4wMjddLCBbMjguNjgyLCAtMTEzLjA4NF0sIFs0MS45MjcsIC02NS43NjJdLCBbMzIuMTk5MTY2NywgLTExNS4yMDg1XSwgWzQxLjE0MzE2NjcsIC0xMjMuNzkwMzMzMjk5OTk5OTldLCBbMzAuMjg5LCAtMTE0LjE0MV0sIFszMC42MDMsIC0xMTMuOTczOTk5OTk5OTk5OTldLCBbMjYuMDA2LCAtMTExLjgxMV0sIFs0OC40NjkzMzMyOTk5OTk5OTUsIC0xMTkuNjA3NV0sIFszNS41MzEsIC05Ni43ODhdLCBbMzUuNTMyLCAtOTYuNzY1XSwgWzM1LjU1LCAtOTYuNzY0XSwgWzM5LjYwNTUsIC0xMjAuNDcxNV0sIFsyOC44NjUsIC05OC4wNzldLCBbMzEuMTU2OTk5OTk5OTk5OTk2LCAtNjUuMDY1XSwgWzM4Ljg5NjcsIC0xMTguNzY1N10sIFsyOC4wOTQsIC0xMTIuMTQxXSwgWzI1LjAxMywgLTEwNi43MTVdLCBbMzYuNTg0MzMzMywgLTEyMS4xODA4MzMyOTk5OTk5OV0sIFszNy45NDY4MzMzLCAtNzcuOTY3MTY2N10sIFszNy45MDk2NjY3LCAtNzcuOTM2MzMzM10sIFszNy4wNjMsIC0xMDQuNzAxMDAwMDAwMDAwMDFdLCBbMzcuMDMyLCAtMTA0LjU1NF0sIFsyNC45NTY5OTk5OTk5OTk5OTcsIC0xMDkuNTMyOTk5OTk5OTk5OTldLCBbMjUuMTAxLCAtMTA5LjUyNV0sIFsyNy41ODUsIC0xMTEuNTYyOTk5OTk5OTk5OTldLCBbMzAuNzU4MDAwMDAwMDAwMDAzLCAtMTA1Ljc1MV0sIFsyOC43MzgwMDAwMDAwMDAwMDMsIC0xMTMuMTI1XSwgWzI3LjQ2MywgLTExMS41MzI5OTk5OTk5OTk5OV0sIFsyNy40MjQsIC0xMTEuMzY3XSwgWzMyLjQ2MSwgLTY1LjU5N10sIFszOC4zODkxLCAtMTE4Ljc0MzNdLCBbMjQuOTkzMDAwMDAwMDAwMDAyLCAtMTA5LjY4Ml0sIFsyNS4yOTUsIC0xMTAuMDY1XSwgWzI1LjM5OSwgLTEwOS42ODcwMDAwMDAwMDAwMV0sIFsyNS4zMjQsIC0xMDkuNzczXSwgWzI1LjMzLCAtMTA5LjUyMV0sIFsyNS4yOTgwMDAwMDAwMDAwMDIsIC0xMDkuNzY3MDAwMDAwMDAwMDFdLCBbMjUuMjM2LCAtMTA5LjgxNV0sIFsyNS4zMzEsIC0xMDkuNDY1XSwgWzI1LjM5MSwgLTEwOS43MTldLCBbMjUuMzc5LCAtMTA5LjY5NV0sIFsyNS4yNSwgLTEwOS41NDRdLCBbMjUuMzE2OTk5OTk5OTk5OTk3LCAtMTA5LjczOF0sIFsyNS4yMDksIC0xMDkuODJdLCBbMjUuMTY1LCAtMTA5Ljg5Mzk5OTk5OTk5OTk5XSwgWzI1LjEzOCwgLTEwOS43OTI5OTk5OTk5OTk5OV0sIFszNS4yNjg2NjY3MDAwMDAwMDQsIC05Mi4zNTQ1XSwgWzMyLjA0NjgzMzI5OTk5OTk5NiwgLTExNS4yNTE4MzMyOTk5OTk5OV0sIFszMi4wNDcsIC0xMTUuMDYyMTY2NzAwMDAwMDJdLCBbMzEuMjM2LCAtMTE1LjY1Mjk5OTk5OTk5OTk5XSwgWzM2Ljc3MTE2NjcsIC0xMjEuNDk2MzMzMjk5OTk5OTldLCBbMjcuMDEsIC0xMTEuNDE0XSwgWzI3LjE0OSwgLTExMS41NDZdLCBbMjUuOTEyLCAtMTEwLjU1Nzk5OTk5OTk5OTk5XSwgWzM4LjI0NzE2NjcsIC0xMTIuMzQ1MTY2NzAwMDAwMDFdLCBbMzguMjQ3LCAtMTEyLjM0XSwgWzMyLjE2MzMzMzMsIC0xMTUuMjYzODMzMjk5OTk5OTldLCBbMjUuNDMzMDAwMDAwMDAwMDAzLCAtMTA5LjkwNF0sIFszMi44NjQ1LCAtMTE1Ljk5NzMzMzI5OTk5OTk4XSwgWzI0Ljc1MiwgLTEwOS4yNl0sIFsyNC42OTU5OTk5OTk5OTk5OTgsIC0xMDkuMTU2XSwgWzI0LjYzMSwgLTEwOS4xODZdLCBbMjQuNzIxOTk5OTk5OTk5OTk4LCAtMTA4Ljg5MjAwMDAwMDAwMDAxXSwgWzMyLjAyNjE2NjcwMDAwMDAwNSwgLTExNS4xMDgzMzMyOTk5OTk5OF0sIFsyOS43ODcsIC0xMTQuMTQxXSwgWzMyLjA0ODUsIC0xMTUuMTk4MTY2NzAwMDAwMDJdLCBbNDMuNTk2MDAwMDAwMDAwMDA0LCAtMTEwLjM5MV0sIFszMy40MTczMzMyOTk5OTk5OTYsIC0xMTYuNDc0NjY2NzAwMDAwMDFdLCBbNDUuODgzNSwgLTc1LjQ3NV0sIFszMi43MDUsIC0xMTUuOTExMzMzMjk5OTk5OThdLCBbMjUuNDk4LCAtMTA5LjgyOV0sIFszMi42MjQzMzMyOTk5OTk5OTYsIC0xMTUuNzY4MzMzMjk5OTk5OThdLCBbMzIuNjE2ODMzMjk5OTk5OTk2LCAtMTE1Ljc1NjMzMzI5OTk5OTk4XSwgWzMyLjY2MDE2NjcwMDAwMDAwNSwgLTExNS44MjUzMzMyOTk5OTk5OF0sIFsyNy43NjMsIC0xMTUuMjNdLCBbMjcuNjc0LCAtMTE1LjE5MV0sIFszMi42NzU1LCAtMTE1LjgxMDE2NjcwMDAwMDAxXSwgWzMyLjY4MTUsIC0xMTUuNzk3MTY2NzAwMDAwMDJdLCBbMzIuMjYzNjY2NywgLTExNS4yODY2NjY3MDAwMDAwMV0sIFszMi42OTIxNjY3LCAtMTE1Ljg0NjVdLCBbMzIuNjU5NSwgLTExNS44MDc1XV07CiAgICAgICAgICAgICAgICB2YXIgY2x1c3RlciA9IEwubWFya2VyQ2x1c3Rlckdyb3VwKHt9KTsKCiAgICAgICAgICAgICAgICBmb3IgKHZhciBpID0gMDsgaSA8IGRhdGEubGVuZ3RoOyBpKyspIHsKICAgICAgICAgICAgICAgICAgICB2YXIgcm93ID0gZGF0YVtpXTsKICAgICAgICAgICAgICAgICAgICB2YXIgbWFya2VyID0gY2FsbGJhY2socm93KTsKICAgICAgICAgICAgICAgICAgICBtYXJrZXIuYWRkVG8oY2x1c3Rlcik7CiAgICAgICAgICAgICAgICB9CgogICAgICAgICAgICAgICAgY2x1c3Rlci5hZGRUbyhtYXBfMjZhZGIyMmQ0NjJmNDM2ZTgxYzYxMmMyZjllNzAwMTApOwogICAgICAgICAgICAgICAgcmV0dXJuIGNsdXN0ZXI7CiAgICAgICAgICAgIH0pKCk7CiAgICAgICAgICAgIAo8L3NjcmlwdD4=\" style=\"position:absolute;width:100%;height:100%;left:0;top:0;border:none !important;\" allowfullscreen webkitallowfullscreen mozallowfullscreen></iframe></div></div>"
            ],
            "text/plain": [
              "<folium.folium.Map at 0x7f591187d748>"
            ]
          },
          "metadata": {
            "tags": []
          },
          "execution_count": 222
        }
      ]
    },
    {
      "metadata": {
        "id": "qnzItCtqYw5c",
        "colab_type": "code",
        "colab": {}
      },
      "cell_type": "code",
      "source": [
        "#UNCOMMENT IF MAPS FAIL TO LOAD IN A NOTEBOOK ENVIRONMENT. \n",
        "# usgs_api_req_url = ('https://earthquake.usgs.gov/fdsnws/event/1/query.geojson?starttime=2010-04-19%2000:00:00&endtime=2019-04-26%2023:59:59&maxlatitude=50&minlatitude=24.6&maxlongitude=-65&minlongitude=-125&minmagnitude=2.5&orderby=time&limit=2000')\n",
        "# import requests\n",
        "# earth_quake_json = requests.get(usgs_api_req_url).json()\n",
        "# earth_quake_json\n",
        "# geojson_url = 'https://s3.amazonaws.com/swastiknathgroup/gz_2010_us_040_00_500k.json'\n",
        "# borough_json = requests.get(geojson_url).json()"
      ],
      "execution_count": 0,
      "outputs": []
    },
    {
      "metadata": {
        "id": "L1bh5Fr4CJLo",
        "colab_type": "text"
      },
      "cell_type": "markdown",
      "source": [
        "<h2> Creating a HeatMap of the Earthquake Affected areas:</h2>\n",
        "<p> We use the HeatMap function imported from the folium.plugins package to generate the heatmap. </p>\n",
        "<p> We create a heat map to understand the frequency of the affected areas across USA. We see that, the map is heated mainly in the pacific coastline of USA. </p>"
      ]
    },
    {
      "metadata": {
        "id": "m0WvyzNQRsns",
        "colab_type": "code",
        "outputId": "4c62aa11-2461-46f8-95be-5f3db6190a2d",
        "colab": {
          "base_uri": "https://localhost:8080/",
          "height": 675
        }
      },
      "cell_type": "code",
      "source": [
        "heat_quake_map = folium.Map(location=[usa_earthquakes['latitude'].mean(), \n",
        "                                usa_earthquakes['longitude'].mean()], \n",
        "                                zoom_start=4)\n",
        "latlons = usa_earthquakes[['latitude', 'longitude']].values.tolist()\n",
        "from folium.plugins import HeatMap\n",
        "HeatMap(latlons).add_to(heat_quake_map)\n",
        "heat_quake_map"
      ],
      "execution_count": 224,
      "outputs": [
        {
          "output_type": "execute_result",
          "data": {
            "text/html": [
              "<div style=\"width:100%;\"><div style=\"position:relative;width:100%;height:0;padding-bottom:60%;\"><iframe src=\"data:text/html;charset=utf-8;base64,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\" style=\"position:absolute;width:100%;height:100%;left:0;top:0;border:none !important;\" allowfullscreen webkitallowfullscreen mozallowfullscreen></iframe></div></div>"
            ],
            "text/plain": [
              "<folium.folium.Map at 0x7f59110abc50>"
            ]
          },
          "metadata": {
            "tags": []
          },
          "execution_count": 224
        }
      ]
    },
    {
      "metadata": {
        "id": "BhWH3GeHDp_i",
        "colab_type": "text"
      },
      "cell_type": "markdown",
      "source": [
        "<h2> Let's Get the places with highest earthquakes count  for the period of 2010-2019 in USA.</h2>\n",
        "<p>Let's print the top earthquake heavy places across USA and create a dataframe representing the places and the earthquake count in that specific place. </p>"
      ]
    },
    {
      "metadata": {
        "id": "8WKDGz31tsoT",
        "colab_type": "code",
        "outputId": "c7aa4ac9-c3b4-4a5e-88fc-732970c3fd29",
        "colab": {
          "base_uri": "https://localhost:8080/",
          "height": 381
        }
      },
      "cell_type": "code",
      "source": [
        "count = usa_earthquakes['place'].value_counts()\n",
        "count\n",
        "usa_top_earthquakes_df = count.rename_axis('place').reset_index(name='counts')\n",
        "usa_top_earthquakes_df\n",
        "\n",
        "#Let's Select top places with atleast 2 earthquake occurance:\n",
        "usa_top = usa_top_earthquakes_df[0:18]\n",
        "print(usa_top)\n",
        "print(usa_top_earthquakes_df.shape)\n",
        "fetcher = usa_earthquakes.set_index('place')\n",
        "fetched = fetcher.loc[usa_top['place'], ['latitude', 'longitude']]\n",
        "latitude_to_search = fetched['latitude']\n",
        "longitude_to_search = fetched['longitude']\n"
      ],
      "execution_count": 225,
      "outputs": [
        {
          "output_type": "stream",
          "text": [
            "                                   place  counts\n",
            "0                     Gulf of California      39\n",
            "1                Baja California, Mexico       9\n",
            "2            Baja California Sur, Mexico       5\n",
            "3           68km ESE of Lakeview, Oregon       3\n",
            "4   offshore Baja California Sur, Mexico       3\n",
            "5                     Central California       3\n",
            "6                               Oklahoma       3\n",
            "7                    Northern California       3\n",
            "8          73km SE of San Felipe, Mexico       3\n",
            "9                         Bermuda region       2\n",
            "10    11km WNW of Greenville, California       2\n",
            "11       20km NNW of Borrego Springs, CA       2\n",
            "12                  North Atlantic Ocean       2\n",
            "13              19km ESE of Ocotillo, CA       2\n",
            "14          67km ESE of Lakeview, Oregon       2\n",
            "15              18km ESE of Ocotillo, CA       2\n",
            "16                                  Utah       2\n",
            "17                              Colorado       2\n",
            "(161, 2)\n"
          ],
          "name": "stdout"
        }
      ]
    },
    {
      "metadata": {
        "id": "w6LEJOrpEVUp",
        "colab_type": "text"
      },
      "cell_type": "markdown",
      "source": [
        "<p> We notice here there are a total of 17 places that has the earthquake count greater than or equal to 2 in the last 10 years. And indeed, this places are certainly vulnerable to earthquakes, especially, Gulf of California, Baja California and Baja California Sur.  So we found our vulnerable to earthquake places in United States. </p> "
      ]
    },
    {
      "metadata": {
        "id": "XkNjA7ZZFFiW",
        "colab_type": "text"
      },
      "cell_type": "markdown",
      "source": [
        "<h2> Let's Plot the vulnerable to earthquakes places to their respective earthquake counts. </h2>\n",
        "<p> The following horizontal bar plot shows the frequency of earthquake counts with respective to their places. </p> \n",
        "<p> In the next, we will use the following places and their latitude and longitudes to find out the hotels that requires attention for implementing earthquake safety products. </p>"
      ]
    },
    {
      "metadata": {
        "id": "wIvA9zI2jsAM",
        "colab_type": "code",
        "outputId": "2e0c2eb1-f2bd-4ac4-d7fc-2e48139562c1",
        "colab": {
          "base_uri": "https://localhost:8080/",
          "height": 287
        }
      },
      "cell_type": "code",
      "source": [
        "plotter = usa_top.set_index('place')\n",
        "plt.figure(figsize = (20,10))\n",
        "plotter.plot(kind = 'barh', width = 0.8, color = 'red', edgecolor = 'black')\n",
        "plt.show()"
      ],
      "execution_count": 226,
      "outputs": [
        {
          "output_type": "display_data",
          "data": {
            "text/plain": [
              "<Figure size 1440x720 with 0 Axes>"
            ]
          },
          "metadata": {
            "tags": []
          }
        },
        {
          "output_type": "display_data",
          "data": {
            "image/png": "[encoded data removed]",
            "text/plain": [
              "<Figure size 432x288 with 1 Axes>"
            ]
          },
          "metadata": {
            "tags": []
          }
        }
      ]
    },
    {
      "metadata": {
        "id": "-oHR2gqiHRYu",
        "colab_type": "text"
      },
      "cell_type": "markdown",
      "source": [
        "<h3> Let's Take a printout of the vulnerable cities common names: </h3>\n",
        "<p> We will list the places with their single unique occerance and instantiate a list object. Next we will import and use the Regular Expressions to eliminate certain patterns from the text to obtain the common name of the place and the name of their borough. At last we, printout the unique names.  </p>"
      ]
    },
    {
      "metadata": {
        "id": "7QImFffO0isT",
        "colab_type": "code",
        "colab": {}
      },
      "cell_type": "code",
      "source": [
        "place_list = usa_top['place'].unique()"
      ],
      "execution_count": 0,
      "outputs": []
    },
    {
      "metadata": {
        "id": "trkWU03e1SWh",
        "colab_type": "code",
        "colab": {}
      },
      "cell_type": "code",
      "source": [
        "import re\n",
        "name_list = []\n",
        "for vals in place_list:\n",
        "  fg = re.sub('^\\d+..\\s\\w+\\s+of','', vals)  #the first parameter is a regex pattern.\n",
        "  name_list.append(fg)"
      ],
      "execution_count": 0,
      "outputs": []
    },
    {
      "metadata": {
        "id": "atfP-QAB3iQZ",
        "colab_type": "code",
        "outputId": "49ac88b8-5ead-47b1-9049-d2874fceb367",
        "colab": {
          "base_uri": "https://localhost:8080/",
          "height": 528
        }
      },
      "cell_type": "code",
      "source": [
        "city_names = pd.DataFrame(columns = ['place'])\n",
        "city_names['place'] = name_list\n",
        "unique_cities = city_names['place'].unique()\n",
        "top_common_places = pd.DataFrame(columns = ['Vulnerable Places'])\n",
        "top_common_places['Vulnerable Places'] = unique_cities\n",
        "top_common_places"
      ],
      "execution_count": 229,
      "outputs": [
        {
          "output_type": "execute_result",
          "data": {
            "text/html": [
              "<div>\n",
              "<style scoped>\n",
              "    .dataframe tbody tr th:only-of-type {\n",
              "        vertical-align: middle;\n",
              "    }\n",
              "\n",
              "    .dataframe tbody tr th {\n",
              "        vertical-align: top;\n",
              "    }\n",
              "\n",
              "    .dataframe thead th {\n",
              "        text-align: right;\n",
              "    }\n",
              "</style>\n",
              "<table border=\"1\" class=\"dataframe\">\n",
              "  <thead>\n",
              "    <tr style=\"text-align: right;\">\n",
              "      <th></th>\n",
              "      <th>Vulnerable Places</th>\n",
              "    </tr>\n",
              "  </thead>\n",
              "  <tbody>\n",
              "    <tr>\n",
              "      <th>0</th>\n",
              "      <td>Gulf of California</td>\n",
              "    </tr>\n",
              "    <tr>\n",
              "      <th>1</th>\n",
              "      <td>Baja California, Mexico</td>\n",
              "    </tr>\n",
              "    <tr>\n",
              "      <th>2</th>\n",
              "      <td>Baja California Sur, Mexico</td>\n",
              "    </tr>\n",
              "    <tr>\n",
              "      <th>3</th>\n",
              "      <td>Lakeview, Oregon</td>\n",
              "    </tr>\n",
              "    <tr>\n",
              "      <th>4</th>\n",
              "      <td>offshore Baja California Sur, Mexico</td>\n",
              "    </tr>\n",
              "    <tr>\n",
              "      <th>5</th>\n",
              "      <td>Central California</td>\n",
              "    </tr>\n",
              "    <tr>\n",
              "      <th>6</th>\n",
              "      <td>Oklahoma</td>\n",
              "    </tr>\n",
              "    <tr>\n",
              "      <th>7</th>\n",
              "      <td>Northern California</td>\n",
              "    </tr>\n",
              "    <tr>\n",
              "      <th>8</th>\n",
              "      <td>San Felipe, Mexico</td>\n",
              "    </tr>\n",
              "    <tr>\n",
              "      <th>9</th>\n",
              "      <td>Bermuda region</td>\n",
              "    </tr>\n",
              "    <tr>\n",
              "      <th>10</th>\n",
              "      <td>Greenville, California</td>\n",
              "    </tr>\n",
              "    <tr>\n",
              "      <th>11</th>\n",
              "      <td>Borrego Springs, CA</td>\n",
              "    </tr>\n",
              "    <tr>\n",
              "      <th>12</th>\n",
              "      <td>North Atlantic Ocean</td>\n",
              "    </tr>\n",
              "    <tr>\n",
              "      <th>13</th>\n",
              "      <td>Ocotillo, CA</td>\n",
              "    </tr>\n",
              "    <tr>\n",
              "      <th>14</th>\n",
              "      <td>Utah</td>\n",
              "    </tr>\n",
              "    <tr>\n",
              "      <th>15</th>\n",
              "      <td>Colorado</td>\n",
              "    </tr>\n",
              "  </tbody>\n",
              "</table>\n",
              "</div>"
            ],
            "text/plain": [
              "                       Vulnerable Places\n",
              "0                     Gulf of California\n",
              "1                Baja California, Mexico\n",
              "2            Baja California Sur, Mexico\n",
              "3                       Lakeview, Oregon\n",
              "4   offshore Baja California Sur, Mexico\n",
              "5                     Central California\n",
              "6                               Oklahoma\n",
              "7                    Northern California\n",
              "8                     San Felipe, Mexico\n",
              "9                         Bermuda region\n",
              "10                Greenville, California\n",
              "11                   Borrego Springs, CA\n",
              "12                  North Atlantic Ocean\n",
              "13                          Ocotillo, CA\n",
              "14                                  Utah\n",
              "15                              Colorado"
            ]
          },
          "metadata": {
            "tags": []
          },
          "execution_count": 229
        }
      ]
    },
    {
      "metadata": {
        "id": "w6jv4XGtJT04",
        "colab_type": "text"
      },
      "cell_type": "markdown",
      "source": [
        "<h2>Connecting to Foursquare for obtainning the Hotel Details: </h2>\n",
        "<p> We will use Foursquare API to search for the hotels nearby the recoded earthquake locations. We will pass in the recorded latitude and longitude of the places to the Foursquare places API to fetch the results in a JSON format. We will then format the response into a pandas dataframe for easy management."
      ]
    },
    {
      "metadata": {
        "id": "SXHKE41kziou",
        "colab_type": "text"
      },
      "cell_type": "markdown",
      "source": [
        "<h3> Credentials for communicating with Foursquare API : </h3>\n",
        "  \n",
        "\n",
        "```\n",
        "CLIENT_ID = \n",
        "CLIENT_SECRET = \n",
        "VERSION = \n",
        "```\n",
        "\n"
      ]
    },
    {
      "metadata": {
        "id": "GeUFIFybSfQ_",
        "colab_type": "code",
        "cellView": "form",
        "colab": {}
      },
      "cell_type": "code",
      "source": [
        "#@title Hidden\n",
        "CLIENT_ID = '0ZATPR54TH0VEOXPJM2XQN2ONXSIB1HAHHOMYZE1NMX2AOHW'\n",
        "CLIENT_SECRET = 'WQJTSN1J24HUHFEQDTSW3ZMT4QIHSOIBGI0LWWKS5MAKQKHY'\n",
        "VERSION =20180605"
      ],
      "execution_count": 0,
      "outputs": []
    },
    {
      "metadata": {
        "id": "JT-4IaJ2OrkP",
        "colab_type": "text"
      },
      "cell_type": "markdown",
      "source": [
        "<h2> Fetching Hotels nearby the vulnerable to earthquake places: </h2>\n",
        "<p> Let's create a custom helper function to obtain the JSON response from the Foursquare API and create a pandas dataframe with the selected responses. </p>"
      ]
    },
    {
      "metadata": {
        "id": "tNWog9BxZeYE",
        "colab_type": "code",
        "outputId": "2612103f-8bfb-4df6-fc48-c0968973307e",
        "colab": {
          "base_uri": "https://localhost:8080/",
          "height": 35
        }
      },
      "cell_type": "code",
      "source": [
        "from progressbar import ProgressBar, Bar, Percentage\n",
        "pbar = ProgressBar(widgets=[Percentage(), Bar()], maxval=300).start()\n",
        "    \n",
        "import requests\n",
        "def whats_nearby(latitudes, longitudes, radius = 15000):\n",
        "  nearby_places_list1 = []\n",
        "  \n",
        "  status = 'EXECUTION STARTED, PLEASE WAIT ->'\n",
        "  for lat, lng in zip(latitudes, longitudes):\n",
        "    for i in range(len(latitudes)):\n",
        "        pbar.update(i+1)\n",
        "    pbar.finish()\n",
        "    query_url = 'https://api.foursquare.com/v2/venues/search?&query=hotel&client_id={}&client_secret={}&v={}&ll={},{}&radius={}&limit={}'.format(\n",
        "            CLIENT_ID,                       \n",
        "            CLIENT_SECRET, \n",
        "            VERSION, \n",
        "            lat, lng, \n",
        "            15000, \n",
        "            100)\n",
        "    response = requests.get(query_url).json()['response']['venues']\n",
        "    \n",
        "    nearby_places_list1.append([(r['name'], \n",
        "                          r['location']['lat'], \n",
        "                          r['location']['lng'],\n",
        "                          r['location']['formattedAddress']) for r in response])\n",
        "  vulnerable_places = pd.DataFrame(item for nearby in nearby_places_list1 for item in nearby)\n",
        "  vulnerable_places.columns = ['Venue', 'Venue Latitude', 'Venue Longitude', 'Address']\n",
        "   \n",
        "  return vulnerable_places"
      ],
      "execution_count": 231,
      "outputs": [
        {
          "output_type": "stream",
          "text": [
            "\r                                                                               \r\rN/A%|                                                                         |"
          ],
          "name": "stderr"
        }
      ]
    },
    {
      "metadata": {
        "id": "mCAUsD_oPdkp",
        "colab_type": "text"
      },
      "cell_type": "markdown",
      "source": [
        "<h2> Fetching the potentially vulnerable to Earthquakes Hotels </h2>\n",
        "<p> Here we use the previously created helper function to fetch the JSON response from the USGS servers and create a dataframe to display the results.</p>\n",
        "<div></div>\n",
        "<p> We also, clean the dataset by dropping null values and resetting the index values. </p>\n"
      ]
    },
    {
      "metadata": {
        "id": "sFFAD8IC2e7F",
        "colab_type": "code",
        "outputId": "13491ae6-ddeb-4b1a-9e42-bf5fc97d6385",
        "colab": {
          "base_uri": "https://localhost:8080/",
          "height": 54
        }
      },
      "cell_type": "code",
      "source": [
        "business_list = whats_nearby(latitudes= latitude_to_search.values, longitudes = longitude_to_search.values)\n",
        "fx = pd.DataFrame(business_list)\n",
        "fx.dropna(inplace = True)\n",
        "fx.reset_index()\n",
        "print('EXECUTION COMPLETE')"
      ],
      "execution_count": 232,
      "outputs": [
        {
          "output_type": "stream",
          "text": [
            "100%|#########################################################################|\n",
            "100%|#########################################################################|"
          ],
          "name": "stderr"
        },
        {
          "output_type": "stream",
          "text": [
            "EXECUTION COMPLETE\n"
          ],
          "name": "stdout"
        }
      ]
    },
    {
      "metadata": {
        "id": "mqhqgfNBPw5U",
        "colab_type": "text"
      },
      "cell_type": "markdown",
      "source": [
        "<h2> Showing the Potetntially Vulnerable Hotels near the earthquakes: </h2>\n",
        "\n",
        "\n",
        "---\n",
        "\n",
        "<h3> What is Vulnerable Occurence?</h3>\n",
        "<p> Here we measure which hotels are nearby to the recorded places. Vulnerable Occurance is the number of occurance of the each recorded place as a nearby place per hotel. Simply stating, it's the measurement, how frequently each hotel appear as a nearby hotel per recoded place based on its latitude and longitude, within a specified radius of interest. </p>\n",
        "\n",
        "<p> The higher the number of vulnerable occurance, the higher is the need of inspection in the specified hotel for risk factors to earthquakes. </p>"
      ]
    },
    {
      "metadata": {
        "id": "lkTPRa1LHzGH",
        "colab_type": "code",
        "outputId": "edd7f4b5-bb97-49f6-97d2-65a3863ad4ec",
        "colab": {
          "base_uri": "https://localhost:8080/",
          "height": 558
        }
      },
      "cell_type": "code",
      "source": [
        "num = fx['Venue'].value_counts()\n",
        "vulnerables = num.rename_axis('business_name').reset_index(name='Vulnerable Occurrence')\n",
        "vulnerables"
      ],
      "execution_count": 233,
      "outputs": [
        {
          "output_type": "execute_result",
          "data": {
            "text/html": [
              "<div>\n",
              "<style scoped>\n",
              "    .dataframe tbody tr th:only-of-type {\n",
              "        vertical-align: middle;\n",
              "    }\n",
              "\n",
              "    .dataframe tbody tr th {\n",
              "        vertical-align: top;\n",
              "    }\n",
              "\n",
              "    .dataframe thead th {\n",
              "        text-align: right;\n",
              "    }\n",
              "</style>\n",
              "<table border=\"1\" class=\"dataframe\">\n",
              "  <thead>\n",
              "    <tr style=\"text-align: right;\">\n",
              "      <th></th>\n",
              "      <th>business_name</th>\n",
              "      <th>Vulnerable Occurrence</th>\n",
              "    </tr>\n",
              "  </thead>\n",
              "  <tbody>\n",
              "    <tr>\n",
              "      <th>0</th>\n",
              "      <td>Holiday Inn Hotel &amp; Suites Trinidad</td>\n",
              "      <td>2</td>\n",
              "    </tr>\n",
              "    <tr>\n",
              "      <th>1</th>\n",
              "      <td>The Meyer's Hotel</td>\n",
              "      <td>2</td>\n",
              "    </tr>\n",
              "    <tr>\n",
              "      <th>2</th>\n",
              "      <td>Hockin Hotel</td>\n",
              "      <td>2</td>\n",
              "    </tr>\n",
              "    <tr>\n",
              "      <th>3</th>\n",
              "      <td>Holiday Inn Hotel &amp; Suites TRINIDAD</td>\n",
              "      <td>2</td>\n",
              "    </tr>\n",
              "    <tr>\n",
              "      <th>4</th>\n",
              "      <td>The Globe Hotel</td>\n",
              "      <td>1</td>\n",
              "    </tr>\n",
              "    <tr>\n",
              "      <th>5</th>\n",
              "      <td>Mar De Cortez Hotel Of Baja</td>\n",
              "      <td>1</td>\n",
              "    </tr>\n",
              "    <tr>\n",
              "      <th>6</th>\n",
              "      <td>SureStay Hotel by Best Western Hollister</td>\n",
              "      <td>1</td>\n",
              "    </tr>\n",
              "    <tr>\n",
              "      <th>7</th>\n",
              "      <td>Old Sierra City Hotel</td>\n",
              "      <td>1</td>\n",
              "    </tr>\n",
              "    <tr>\n",
              "      <th>8</th>\n",
              "      <td>Travelodge</td>\n",
              "      <td>1</td>\n",
              "    </tr>\n",
              "    <tr>\n",
              "      <th>9</th>\n",
              "      <td>Super 8</td>\n",
              "      <td>1</td>\n",
              "    </tr>\n",
              "    <tr>\n",
              "      <th>10</th>\n",
              "      <td>Vagabond Inn Ukiah</td>\n",
              "      <td>1</td>\n",
              "    </tr>\n",
              "    <tr>\n",
              "      <th>11</th>\n",
              "      <td>Club Max - Double Tree Hotel</td>\n",
              "      <td>1</td>\n",
              "    </tr>\n",
              "    <tr>\n",
              "      <th>12</th>\n",
              "      <td>Holiday Inn Express &amp; Suites Shawnee I-40</td>\n",
              "      <td>1</td>\n",
              "    </tr>\n",
              "    <tr>\n",
              "      <th>13</th>\n",
              "      <td>Vagabond Inn Hotels</td>\n",
              "      <td>1</td>\n",
              "    </tr>\n",
              "    <tr>\n",
              "      <th>14</th>\n",
              "      <td>Best Western Salinas Monterey Hotel</td>\n",
              "      <td>1</td>\n",
              "    </tr>\n",
              "    <tr>\n",
              "      <th>15</th>\n",
              "      <td>Holiday Inn Express Hotel &amp; Suites Salinas</td>\n",
              "      <td>1</td>\n",
              "    </tr>\n",
              "    <tr>\n",
              "      <th>16</th>\n",
              "      <td>Hotel Gran SueÑo</td>\n",
              "      <td>1</td>\n",
              "    </tr>\n",
              "  </tbody>\n",
              "</table>\n",
              "</div>"
            ],
            "text/plain": [
              "                                 business_name  Vulnerable Occurrence\n",
              "0          Holiday Inn Hotel & Suites Trinidad                      2\n",
              "1                            The Meyer's Hotel                      2\n",
              "2                                 Hockin Hotel                      2\n",
              "3          Holiday Inn Hotel & Suites TRINIDAD                      2\n",
              "4                              The Globe Hotel                      1\n",
              "5                  Mar De Cortez Hotel Of Baja                      1\n",
              "6     SureStay Hotel by Best Western Hollister                      1\n",
              "7                        Old Sierra City Hotel                      1\n",
              "8                                   Travelodge                      1\n",
              "9                                      Super 8                      1\n",
              "10                          Vagabond Inn Ukiah                      1\n",
              "11                Club Max - Double Tree Hotel                      1\n",
              "12   Holiday Inn Express & Suites Shawnee I-40                      1\n",
              "13                         Vagabond Inn Hotels                      1\n",
              "14         Best Western Salinas Monterey Hotel                      1\n",
              "15  Holiday Inn Express Hotel & Suites Salinas                      1\n",
              "16                            Hotel Gran SueÑo                      1"
            ]
          },
          "metadata": {
            "tags": []
          },
          "execution_count": 233
        }
      ]
    },
    {
      "metadata": {
        "id": "NAf-GtcwByre",
        "colab_type": "text"
      },
      "cell_type": "markdown",
      "source": [
        "<p> Here we find three hotels that needs attention severly, as their Vulnerable Occurence index is 2, meaning they have appeared as a nearby to two of our recorded place they are as following: </p>\n",
        "<div> </div> <table> <th> Name of the potentially risky hotels</th>\n",
        "  <tr>\n",
        "    <td>Hockin Hotel</td>\n",
        "  </tr>\n",
        "  <tr>\n",
        "    <td> Holiday Inn Hotel and Resorts, Trinidad</td>\n",
        "    </tr>\n",
        "      <tr>\n",
        "        <td>The Meyer's Hotel </td>\n",
        "        </tr>"
      ]
    },
    {
      "metadata": {
        "id": "zLkqMGKOSJBj",
        "colab_type": "text"
      },
      "cell_type": "markdown",
      "source": [
        "<h2> Plotting the potentially risky to earthquakes hotels with respect to their <b>Vulnerable Occurances</b> :</h2>"
      ]
    },
    {
      "metadata": {
        "id": "DKlRVznHemS-",
        "colab_type": "code",
        "outputId": "9f48f41d-d7f4-4ee3-d4a2-17e1aa138f63",
        "colab": {
          "base_uri": "https://localhost:8080/",
          "height": 287
        }
      },
      "cell_type": "code",
      "source": [
        "needs_attention = vulnerables\n",
        "needs_attention.set_index('business_name', inplace = True)\n",
        "needs_attention.plot(kind = 'barh', width = 0.8, edgecolor = 'black', color = 'tomato')\n",
        "fig = plt.figure(figsize = (20, 10))\n",
        "plt.show()"
      ],
      "execution_count": 234,
      "outputs": [
        {
          "output_type": "display_data",
          "data": {
            "image/png": "[encoded data removed]",
            "text/plain": [
              "<Figure size 432x288 with 1 Axes>"
            ]
          },
          "metadata": {
            "tags": []
          }
        },
        {
          "output_type": "display_data",
          "data": {
            "text/plain": [
              "<Figure size 1440x720 with 0 Axes>"
            ]
          },
          "metadata": {
            "tags": []
          }
        }
      ]
    },
    {
      "metadata": {
        "id": "K59DFKqcSgg1",
        "colab_type": "text"
      },
      "cell_type": "markdown",
      "source": [
        "<h2> Dataset showing the unique potentially risky candidates with their respective location data for plotting. </h2>"
      ]
    },
    {
      "metadata": {
        "id": "EZzIazGQ43wg",
        "colab_type": "code",
        "outputId": "f3327490-af64-4e0e-e2b1-ff872c5c1330",
        "colab": {
          "base_uri": "https://localhost:8080/",
          "height": 558
        }
      },
      "cell_type": "code",
      "source": [
        "fx['Venue'].value_counts()\n",
        "fd_grouped = fx.groupby('Venue').mean()\n",
        "fd_grouped.reset_index(inplace = True)\n",
        "fd_grouped[0:51]"
      ],
      "execution_count": 235,
      "outputs": [
        {
          "output_type": "execute_result",
          "data": {
            "text/html": [
              "<div>\n",
              "<style scoped>\n",
              "    .dataframe tbody tr th:only-of-type {\n",
              "        vertical-align: middle;\n",
              "    }\n",
              "\n",
              "    .dataframe tbody tr th {\n",
              "        vertical-align: top;\n",
              "    }\n",
              "\n",
              "    .dataframe thead th {\n",
              "        text-align: right;\n",
              "    }\n",
              "</style>\n",
              "<table border=\"1\" class=\"dataframe\">\n",
              "  <thead>\n",
              "    <tr style=\"text-align: right;\">\n",
              "      <th></th>\n",
              "      <th>Venue</th>\n",
              "      <th>Venue Latitude</th>\n",
              "      <th>Venue Longitude</th>\n",
              "    </tr>\n",
              "  </thead>\n",
              "  <tbody>\n",
              "    <tr>\n",
              "      <th>0</th>\n",
              "      <td>Best Western Salinas Monterey Hotel</td>\n",
              "      <td>36.680713</td>\n",
              "      <td>-121.641309</td>\n",
              "    </tr>\n",
              "    <tr>\n",
              "      <th>1</th>\n",
              "      <td>Club Max - Double Tree Hotel</td>\n",
              "      <td>36.721769</td>\n",
              "      <td>-121.658569</td>\n",
              "    </tr>\n",
              "    <tr>\n",
              "      <th>2</th>\n",
              "      <td>Hockin Hotel</td>\n",
              "      <td>36.839771</td>\n",
              "      <td>-121.411908</td>\n",
              "    </tr>\n",
              "    <tr>\n",
              "      <th>3</th>\n",
              "      <td>Holiday Inn Express &amp; Suites Shawnee I-40</td>\n",
              "      <td>35.386338</td>\n",
              "      <td>-96.919378</td>\n",
              "    </tr>\n",
              "    <tr>\n",
              "      <th>4</th>\n",
              "      <td>Holiday Inn Express Hotel &amp; Suites Salinas</td>\n",
              "      <td>36.681925</td>\n",
              "      <td>-121.641387</td>\n",
              "    </tr>\n",
              "    <tr>\n",
              "      <th>5</th>\n",
              "      <td>Holiday Inn Hotel &amp; Suites TRINIDAD</td>\n",
              "      <td>37.135739</td>\n",
              "      <td>-104.520621</td>\n",
              "    </tr>\n",
              "    <tr>\n",
              "      <th>6</th>\n",
              "      <td>Holiday Inn Hotel &amp; Suites Trinidad</td>\n",
              "      <td>37.135125</td>\n",
              "      <td>-104.519573</td>\n",
              "    </tr>\n",
              "    <tr>\n",
              "      <th>7</th>\n",
              "      <td>Hotel Gran SueÑo</td>\n",
              "      <td>26.044445</td>\n",
              "      <td>-111.666072</td>\n",
              "    </tr>\n",
              "    <tr>\n",
              "      <th>8</th>\n",
              "      <td>Mar De Cortez Hotel Of Baja</td>\n",
              "      <td>36.789280</td>\n",
              "      <td>-121.661568</td>\n",
              "    </tr>\n",
              "    <tr>\n",
              "      <th>9</th>\n",
              "      <td>Old Sierra City Hotel</td>\n",
              "      <td>39.565857</td>\n",
              "      <td>-120.635155</td>\n",
              "    </tr>\n",
              "    <tr>\n",
              "      <th>10</th>\n",
              "      <td>Super 8</td>\n",
              "      <td>39.145221</td>\n",
              "      <td>-123.198009</td>\n",
              "    </tr>\n",
              "    <tr>\n",
              "      <th>11</th>\n",
              "      <td>SureStay Hotel by Best Western Hollister</td>\n",
              "      <td>36.866330</td>\n",
              "      <td>-121.402130</td>\n",
              "    </tr>\n",
              "    <tr>\n",
              "      <th>12</th>\n",
              "      <td>The Globe Hotel</td>\n",
              "      <td>39.589505</td>\n",
              "      <td>-120.367181</td>\n",
              "    </tr>\n",
              "    <tr>\n",
              "      <th>13</th>\n",
              "      <td>The Meyer's Hotel</td>\n",
              "      <td>40.147069</td>\n",
              "      <td>-120.919755</td>\n",
              "    </tr>\n",
              "    <tr>\n",
              "      <th>14</th>\n",
              "      <td>Travelodge</td>\n",
              "      <td>39.173048</td>\n",
              "      <td>-123.212033</td>\n",
              "    </tr>\n",
              "    <tr>\n",
              "      <th>15</th>\n",
              "      <td>Vagabond Inn Hotels</td>\n",
              "      <td>39.135768</td>\n",
              "      <td>-123.192764</td>\n",
              "    </tr>\n",
              "    <tr>\n",
              "      <th>16</th>\n",
              "      <td>Vagabond Inn Ukiah</td>\n",
              "      <td>39.135433</td>\n",
              "      <td>-123.193290</td>\n",
              "    </tr>\n",
              "  </tbody>\n",
              "</table>\n",
              "</div>"
            ],
            "text/plain": [
              "                                         Venue  Venue Latitude  \\\n",
              "0          Best Western Salinas Monterey Hotel       36.680713   \n",
              "1                 Club Max - Double Tree Hotel       36.721769   \n",
              "2                                 Hockin Hotel       36.839771   \n",
              "3    Holiday Inn Express & Suites Shawnee I-40       35.386338   \n",
              "4   Holiday Inn Express Hotel & Suites Salinas       36.681925   \n",
              "5          Holiday Inn Hotel & Suites TRINIDAD       37.135739   \n",
              "6          Holiday Inn Hotel & Suites Trinidad       37.135125   \n",
              "7                             Hotel Gran SueÑo       26.044445   \n",
              "8                  Mar De Cortez Hotel Of Baja       36.789280   \n",
              "9                        Old Sierra City Hotel       39.565857   \n",
              "10                                     Super 8       39.145221   \n",
              "11    SureStay Hotel by Best Western Hollister       36.866330   \n",
              "12                             The Globe Hotel       39.589505   \n",
              "13                           The Meyer's Hotel       40.147069   \n",
              "14                                  Travelodge       39.173048   \n",
              "15                         Vagabond Inn Hotels       39.135768   \n",
              "16                          Vagabond Inn Ukiah       39.135433   \n",
              "\n",
              "    Venue Longitude  \n",
              "0       -121.641309  \n",
              "1       -121.658569  \n",
              "2       -121.411908  \n",
              "3        -96.919378  \n",
              "4       -121.641387  \n",
              "5       -104.520621  \n",
              "6       -104.519573  \n",
              "7       -111.666072  \n",
              "8       -121.661568  \n",
              "9       -120.635155  \n",
              "10      -123.198009  \n",
              "11      -121.402130  \n",
              "12      -120.367181  \n",
              "13      -120.919755  \n",
              "14      -123.212033  \n",
              "15      -123.192764  \n",
              "16      -123.193290  "
            ]
          },
          "metadata": {
            "tags": []
          },
          "execution_count": 235
        }
      ]
    },
    {
      "metadata": {
        "id": "20gXRDYeS672",
        "colab_type": "text"
      },
      "cell_type": "markdown",
      "source": [
        "<h2> Adding the potentially risky hotels into the Heatmap </h2>\n",
        "<p> We plot each of the potentially risky candidates to our heatmap to better viusalise their location and the effectiveness of our analysis. We have used FastMarkerCluster to visualise the vulnearble hotels in the map. </p>"
      ]
    },
    {
      "metadata": {
        "id": "opTX8-5WCxQs",
        "colab_type": "code",
        "outputId": "05449cb6-40e5-4aa8-9b53-c84ddd60b991",
        "colab": {
          "base_uri": "https://localhost:8080/",
          "height": 675
        }
      },
      "cell_type": "code",
      "source": [
        "from folium.plugins import MarkerCluster\n",
        "from folium.plugins import FastMarkerCluster\n",
        "vulnerable_business_map = folium.Map(location = [usa_earthquakes['latitude'].mean(), \n",
        "                                usa_earthquakes['longitude'].mean()], tiles = 'OpenStreetMap',\n",
        "                                zoom_start=4)\n",
        "vulnerable_business_map.add_child(FastMarkerCluster(fd_grouped[['Venue Latitude', 'Venue Longitude']].values.tolist()))\n",
        "\n",
        "folium.Circle([usa_earthquakes['latitude'].mean(),usa_earthquakes['longitude'].mean()], radius=1500000, color='red', opacity = 0.6, fill=False).add_to(vulnerable_business_map) \n",
        "folium.Circle([usa_earthquakes['latitude'].mean(),usa_earthquakes['longitude'].mean()], radius=2000000, color='red', opacity = 0.6, fill=False).add_to(vulnerable_business_map) \n",
        "folium.Circle([usa_earthquakes['latitude'].mean(),usa_earthquakes['longitude'].mean()], radius=2500000, color='red', opacity = 0.6, fill=False).add_to(vulnerable_business_map) \n",
        "\n",
        "from folium.plugins import HeatMap\n",
        "latlons = usa_earthquakes[['latitude', 'longitude']].values.tolist()\n",
        "HeatMap(latlons).add_to(vulnerable_business_map)\n",
        "vulnerable_business_map"
      ],
      "execution_count": 236,
      "outputs": [
        {
          "output_type": "execute_result",
          "data": {
            "text/html": [
              "<div style=\"width:100%;\"><div style=\"position:relative;width:100%;height:0;padding-bottom:60%;\"><iframe src=\"data:text/html;charset=utf-8;base64,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\" style=\"position:absolute;width:100%;height:100%;left:0;top:0;border:none !important;\" allowfullscreen webkitallowfullscreen mozallowfullscreen></iframe></div></div>"
            ],
            "text/plain": [
              "<folium.folium.Map at 0x7f5910eac400>"
            ]
          },
          "metadata": {
            "tags": []
          },
          "execution_count": 236
        }
      ]
    },
    {
      "metadata": {
        "id": "unEZ5YgPECB3",
        "colab_type": "text"
      },
      "cell_type": "markdown",
      "source": [
        "<p> We see, the hotel data retrieved from Foursquare are correct as the map shows, the hotels are very nearby the risky zones or heated zones. </p>"
      ]
    },
    {
      "metadata": {
        "id": "vbdDWpf1THzu",
        "colab_type": "text"
      },
      "cell_type": "markdown",
      "source": [
        "<h2> Let's Cluster the potentially risky candidates </h2>\n",
        "<p> We use the KMeans Clustering to cluster the hotels we recieved as a response from the Foursquare API. As clustering is a unsupervised learning, let's drop the labels from the dataset and pass in the unlabelled dataset as a parameter into the KMeans clustering algorithm. We will cluster the hotels into five different clusters and plot them into a map. </p>"
      ]
    },
    {
      "metadata": {
        "id": "krv414-0io6q",
        "colab_type": "code",
        "outputId": "75e9de72-f1f4-49ed-e52c-af2849d2b88b",
        "colab": {
          "base_uri": "https://localhost:8080/",
          "height": 54
        }
      },
      "cell_type": "code",
      "source": [
        "cluster_list = fx.set_index('Venue')\n",
        "cluster_list\n",
        "num_clusters = 5\n",
        "clusters = cluster_list.drop('Address', 1)\n",
        "kmeans_cls = KMeans(n_clusters = num_clusters, random_state = 0).fit(clusters)\n",
        "kmeans_cls.labels_"
      ],
      "execution_count": 237,
      "outputs": [
        {
          "output_type": "execute_result",
          "data": {
            "text/plain": [
              "array([2, 3, 3, 3, 3, 3, 3, 3, 4, 0, 0, 0, 0, 0, 0, 0, 0, 1, 1, 1, 1],\n",
              "      dtype=int32)"
            ]
          },
          "metadata": {
            "tags": []
          },
          "execution_count": 237
        }
      ]
    },
    {
      "metadata": {
        "id": "XakNfFaKTQcA",
        "colab_type": "text"
      },
      "cell_type": "markdown",
      "source": [
        "<h2> Dataset showing all the potentially risky candidates along with their Cluster Labels. </h2>\n",
        "<p>Let's visualise the dataset of hotels with their cluster labels and their addresses in a dataframe. <b>We might see duplicates in the dataframe, this is beacuse of different registered address. </b> </p>"
      ]
    },
    {
      "metadata": {
        "id": "RRpAgyjwnMf9",
        "colab_type": "code",
        "outputId": "e6810ede-5a6a-4472-fb7b-8504b1ac4baf",
        "colab": {
          "base_uri": "https://localhost:8080/",
          "height": 678
        }
      },
      "cell_type": "code",
      "source": [
        "cluster_list['Cluster Labels'] = kmeans_cls.labels_\n",
        "cluster_list.reset_index(inplace = True)\n",
        "# cls_rd = cluster_list.drop_duplicates()\n",
        "# cls_copy = cluster_list\n",
        "# cls_copy.drop_duplicates(inplace = True)\n",
        "# cls_copy\n",
        "cluster_list\n"
      ],
      "execution_count": 238,
      "outputs": [
        {
          "output_type": "execute_result",
          "data": {
            "text/html": [
              "<div>\n",
              "<style scoped>\n",
              "    .dataframe tbody tr th:only-of-type {\n",
              "        vertical-align: middle;\n",
              "    }\n",
              "\n",
              "    .dataframe tbody tr th {\n",
              "        vertical-align: top;\n",
              "    }\n",
              "\n",
              "    .dataframe thead th {\n",
              "        text-align: right;\n",
              "    }\n",
              "</style>\n",
              "<table border=\"1\" class=\"dataframe\">\n",
              "  <thead>\n",
              "    <tr style=\"text-align: right;\">\n",
              "      <th></th>\n",
              "      <th>Venue</th>\n",
              "      <th>Venue Latitude</th>\n",
              "      <th>Venue Longitude</th>\n",
              "      <th>Address</th>\n",
              "      <th>Cluster Labels</th>\n",
              "    </tr>\n",
              "  </thead>\n",
              "  <tbody>\n",
              "    <tr>\n",
              "      <th>0</th>\n",
              "      <td>Hotel Gran SueÑo</td>\n",
              "      <td>26.044445</td>\n",
              "      <td>-111.666072</td>\n",
              "      <td>[Bahia de los Sueños, Baja California Sur, Méx...</td>\n",
              "      <td>2</td>\n",
              "    </tr>\n",
              "    <tr>\n",
              "      <th>1</th>\n",
              "      <td>Holiday Inn Express Hotel &amp; Suites Salinas</td>\n",
              "      <td>36.681925</td>\n",
              "      <td>-121.641387</td>\n",
              "      <td>[195 Kern St, Salinas, CA 93905, United States]</td>\n",
              "      <td>3</td>\n",
              "    </tr>\n",
              "    <tr>\n",
              "      <th>2</th>\n",
              "      <td>Hockin Hotel</td>\n",
              "      <td>36.857854</td>\n",
              "      <td>-121.435447</td>\n",
              "      <td>[Buena Vista Road, Hollister, CA, United States]</td>\n",
              "      <td>3</td>\n",
              "    </tr>\n",
              "    <tr>\n",
              "      <th>3</th>\n",
              "      <td>Hockin Hotel</td>\n",
              "      <td>36.821687</td>\n",
              "      <td>-121.388369</td>\n",
              "      <td>[Hollister, CA, United States]</td>\n",
              "      <td>3</td>\n",
              "    </tr>\n",
              "    <tr>\n",
              "      <th>4</th>\n",
              "      <td>SureStay Hotel by Best Western Hollister</td>\n",
              "      <td>36.866330</td>\n",
              "      <td>-121.402130</td>\n",
              "      <td>[660 San Felipe Rd, Hollister, CA 95023, Unite...</td>\n",
              "      <td>3</td>\n",
              "    </tr>\n",
              "    <tr>\n",
              "      <th>5</th>\n",
              "      <td>Club Max - Double Tree Hotel</td>\n",
              "      <td>36.721769</td>\n",
              "      <td>-121.658569</td>\n",
              "      <td>[Salinas, CA 93906, United States]</td>\n",
              "      <td>3</td>\n",
              "    </tr>\n",
              "    <tr>\n",
              "      <th>6</th>\n",
              "      <td>Mar De Cortez Hotel Of Baja</td>\n",
              "      <td>36.789280</td>\n",
              "      <td>-121.661568</td>\n",
              "      <td>[17790 Berta Canyon Rd, Salinas, CA 93907, Uni...</td>\n",
              "      <td>3</td>\n",
              "    </tr>\n",
              "    <tr>\n",
              "      <th>7</th>\n",
              "      <td>Best Western Salinas Monterey Hotel</td>\n",
              "      <td>36.680713</td>\n",
              "      <td>-121.641309</td>\n",
              "      <td>[175 Kern St, Salinas, CA 93905, United States]</td>\n",
              "      <td>3</td>\n",
              "    </tr>\n",
              "    <tr>\n",
              "      <th>8</th>\n",
              "      <td>Holiday Inn Express &amp; Suites Shawnee I-40</td>\n",
              "      <td>35.386338</td>\n",
              "      <td>-96.919378</td>\n",
              "      <td>[4909 N. Union, Shawnee, OK 74804, United States]</td>\n",
              "      <td>4</td>\n",
              "    </tr>\n",
              "    <tr>\n",
              "      <th>9</th>\n",
              "      <td>Travelodge</td>\n",
              "      <td>39.173048</td>\n",
              "      <td>-123.212033</td>\n",
              "      <td>[1720 N State St (at US-101), Ukiah, CA 95482,...</td>\n",
              "      <td>0</td>\n",
              "    </tr>\n",
              "    <tr>\n",
              "      <th>10</th>\n",
              "      <td>Vagabond Inn Hotels</td>\n",
              "      <td>39.135768</td>\n",
              "      <td>-123.192764</td>\n",
              "      <td>[2225 Campus Dr, El Segundo, CA, United States]</td>\n",
              "      <td>0</td>\n",
              "    </tr>\n",
              "    <tr>\n",
              "      <th>11</th>\n",
              "      <td>Vagabond Inn Ukiah</td>\n",
              "      <td>39.135433</td>\n",
              "      <td>-123.193290</td>\n",
              "      <td>[601 Talmage Rd, Ukiah, CA 95482, United States]</td>\n",
              "      <td>0</td>\n",
              "    </tr>\n",
              "    <tr>\n",
              "      <th>12</th>\n",
              "      <td>Super 8</td>\n",
              "      <td>39.145221</td>\n",
              "      <td>-123.198009</td>\n",
              "      <td>[693 S Orchard Ave, Ukiah, CA 95482, United St...</td>\n",
              "      <td>0</td>\n",
              "    </tr>\n",
              "    <tr>\n",
              "      <th>13</th>\n",
              "      <td>The Globe Hotel</td>\n",
              "      <td>39.589505</td>\n",
              "      <td>-120.367181</td>\n",
              "      <td>[Loyalton, CA 96118, United States]</td>\n",
              "      <td>0</td>\n",
              "    </tr>\n",
              "    <tr>\n",
              "      <th>14</th>\n",
              "      <td>Old Sierra City Hotel</td>\n",
              "      <td>39.565857</td>\n",
              "      <td>-120.635155</td>\n",
              "      <td>[Sierra City, CA 96125, United States]</td>\n",
              "      <td>0</td>\n",
              "    </tr>\n",
              "    <tr>\n",
              "      <th>15</th>\n",
              "      <td>The Meyer's Hotel</td>\n",
              "      <td>40.147069</td>\n",
              "      <td>-120.919755</td>\n",
              "      <td>[Greenville, CA 95947, United States]</td>\n",
              "      <td>0</td>\n",
              "    </tr>\n",
              "    <tr>\n",
              "      <th>16</th>\n",
              "      <td>The Meyer's Hotel</td>\n",
              "      <td>40.147069</td>\n",
              "      <td>-120.919755</td>\n",
              "      <td>[Greenville, CA 95947, United States]</td>\n",
              "      <td>0</td>\n",
              "    </tr>\n",
              "    <tr>\n",
              "      <th>17</th>\n",
              "      <td>Holiday Inn Hotel &amp; Suites Trinidad</td>\n",
              "      <td>37.135125</td>\n",
              "      <td>-104.519573</td>\n",
              "      <td>[3130 Santa Fe Trl, Trinidad, CO 81082, United...</td>\n",
              "      <td>1</td>\n",
              "    </tr>\n",
              "    <tr>\n",
              "      <th>18</th>\n",
              "      <td>Holiday Inn Hotel &amp; Suites TRINIDAD</td>\n",
              "      <td>37.135739</td>\n",
              "      <td>-104.520621</td>\n",
              "      <td>[3130 Santa Fe Trl, Trinidad, CO 81082, United...</td>\n",
              "      <td>1</td>\n",
              "    </tr>\n",
              "    <tr>\n",
              "      <th>19</th>\n",
              "      <td>Holiday Inn Hotel &amp; Suites Trinidad</td>\n",
              "      <td>37.135125</td>\n",
              "      <td>-104.519573</td>\n",
              "      <td>[3130 Santa Fe Trl, Trinidad, CO 81082, United...</td>\n",
              "      <td>1</td>\n",
              "    </tr>\n",
              "    <tr>\n",
              "      <th>20</th>\n",
              "      <td>Holiday Inn Hotel &amp; Suites TRINIDAD</td>\n",
              "      <td>37.135739</td>\n",
              "      <td>-104.520621</td>\n",
              "      <td>[3130 Santa Fe Trl, Trinidad, CO 81082, United...</td>\n",
              "      <td>1</td>\n",
              "    </tr>\n",
              "  </tbody>\n",
              "</table>\n",
              "</div>"
            ],
            "text/plain": [
              "                                         Venue  Venue Latitude  \\\n",
              "0                             Hotel Gran SueÑo       26.044445   \n",
              "1   Holiday Inn Express Hotel & Suites Salinas       36.681925   \n",
              "2                                 Hockin Hotel       36.857854   \n",
              "3                                 Hockin Hotel       36.821687   \n",
              "4     SureStay Hotel by Best Western Hollister       36.866330   \n",
              "5                 Club Max - Double Tree Hotel       36.721769   \n",
              "6                  Mar De Cortez Hotel Of Baja       36.789280   \n",
              "7          Best Western Salinas Monterey Hotel       36.680713   \n",
              "8    Holiday Inn Express & Suites Shawnee I-40       35.386338   \n",
              "9                                   Travelodge       39.173048   \n",
              "10                         Vagabond Inn Hotels       39.135768   \n",
              "11                          Vagabond Inn Ukiah       39.135433   \n",
              "12                                     Super 8       39.145221   \n",
              "13                             The Globe Hotel       39.589505   \n",
              "14                       Old Sierra City Hotel       39.565857   \n",
              "15                           The Meyer's Hotel       40.147069   \n",
              "16                           The Meyer's Hotel       40.147069   \n",
              "17         Holiday Inn Hotel & Suites Trinidad       37.135125   \n",
              "18         Holiday Inn Hotel & Suites TRINIDAD       37.135739   \n",
              "19         Holiday Inn Hotel & Suites Trinidad       37.135125   \n",
              "20         Holiday Inn Hotel & Suites TRINIDAD       37.135739   \n",
              "\n",
              "    Venue Longitude                                            Address  \\\n",
              "0       -111.666072  [Bahia de los Sueños, Baja California Sur, Méx...   \n",
              "1       -121.641387    [195 Kern St, Salinas, CA 93905, United States]   \n",
              "2       -121.435447   [Buena Vista Road, Hollister, CA, United States]   \n",
              "3       -121.388369                     [Hollister, CA, United States]   \n",
              "4       -121.402130  [660 San Felipe Rd, Hollister, CA 95023, Unite...   \n",
              "5       -121.658569                 [Salinas, CA 93906, United States]   \n",
              "6       -121.661568  [17790 Berta Canyon Rd, Salinas, CA 93907, Uni...   \n",
              "7       -121.641309    [175 Kern St, Salinas, CA 93905, United States]   \n",
              "8        -96.919378  [4909 N. Union, Shawnee, OK 74804, United States]   \n",
              "9       -123.212033  [1720 N State St (at US-101), Ukiah, CA 95482,...   \n",
              "10      -123.192764    [2225 Campus Dr, El Segundo, CA, United States]   \n",
              "11      -123.193290   [601 Talmage Rd, Ukiah, CA 95482, United States]   \n",
              "12      -123.198009  [693 S Orchard Ave, Ukiah, CA 95482, United St...   \n",
              "13      -120.367181                [Loyalton, CA 96118, United States]   \n",
              "14      -120.635155             [Sierra City, CA 96125, United States]   \n",
              "15      -120.919755              [Greenville, CA 95947, United States]   \n",
              "16      -120.919755              [Greenville, CA 95947, United States]   \n",
              "17      -104.519573  [3130 Santa Fe Trl, Trinidad, CO 81082, United...   \n",
              "18      -104.520621  [3130 Santa Fe Trl, Trinidad, CO 81082, United...   \n",
              "19      -104.519573  [3130 Santa Fe Trl, Trinidad, CO 81082, United...   \n",
              "20      -104.520621  [3130 Santa Fe Trl, Trinidad, CO 81082, United...   \n",
              "\n",
              "    Cluster Labels  \n",
              "0                2  \n",
              "1                3  \n",
              "2                3  \n",
              "3                3  \n",
              "4                3  \n",
              "5                3  \n",
              "6                3  \n",
              "7                3  \n",
              "8                4  \n",
              "9                0  \n",
              "10               0  \n",
              "11               0  \n",
              "12               0  \n",
              "13               0  \n",
              "14               0  \n",
              "15               0  \n",
              "16               0  \n",
              "17               1  \n",
              "18               1  \n",
              "19               1  \n",
              "20               1  "
            ]
          },
          "metadata": {
            "tags": []
          },
          "execution_count": 238
        }
      ]
    },
    {
      "metadata": {
        "id": "VN7gKx9DTdXy",
        "colab_type": "text"
      },
      "cell_type": "markdown",
      "source": [
        "<h2> Let's Visualise the clusters into the map. </h2>\n",
        "<p> Let's plot the dataset into a map and visualise the cluster of hotels on the map.</p>\n",
        "<p> The clusters are combined together when zoomed out, but zoom in to visualise them indivudually. </p>"
      ]
    },
    {
      "metadata": {
        "id": "7bMMGZKUoFgR",
        "colab_type": "code",
        "outputId": "b5ad6521-d5a2-488c-bd76-76c3d45aa053",
        "colab": {
          "base_uri": "https://localhost:8080/",
          "height": 675
        }
      },
      "cell_type": "code",
      "source": [
        "import matplotlib.cm as cm\n",
        "import matplotlib.colors as colors\n",
        "lat_usa = 37.09\n",
        "lng_usa = -95.71\n",
        "mapping_earthquake_cluster = folium.Map(location = [lat_usa, lng_usa], zoom_start = 4)\n",
        "       \n",
        "cluster_in = [int(i) for i in cluster_list['Cluster Labels']]\n",
        "  \n",
        "x = np.arange(num_clusters)\n",
        "ys = [i + x + (i*x)**2 for i in range(num_clusters)]\n",
        "colors_array = cm.rainbow(np.linspace(0, 1, len(ys)))\n",
        "rainbow = [colors.rgb2hex(i) for i in colors_array]\n",
        "\n",
        "markers_colors = []\n",
        "for lat, lon, poi, cluster in zip(cluster_list['Venue Latitude'], cluster_list['Venue Longitude'], cluster_list['Venue'], cluster_in):\n",
        "    label = folium.Popup(str(poi) + ' Cluster ' + str(cluster), parse_html=True)\n",
        "    folium.CircleMarker(\n",
        "        [lat, lon],\n",
        "        radius=10,\n",
        "        popup=label,\n",
        "        color=rainbow[cluster-1],\n",
        "        fill=True,\n",
        "        fill_color=rainbow[cluster-1],\n",
        "        fill_opacity=0.7).add_to(mapping_earthquake_cluster)\n",
        "mapping_earthquake_cluster"
      ],
      "execution_count": 240,
      "outputs": [
        {
          "output_type": "execute_result",
          "data": {
            "text/html": [
              "<div style=\"width:100%;\"><div style=\"position:relative;width:100%;height:0;padding-bottom:60%;\"><iframe src=\"data:text/html;charset=utf-8;base64,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\" style=\"position:absolute;width:100%;height:100%;left:0;top:0;border:none !important;\" allowfullscreen webkitallowfullscreen mozallowfullscreen></iframe></div></div>"
            ],
            "text/plain": [
              "<folium.folium.Map at 0x7f5910a53438>"
            ]
          },
          "metadata": {
            "tags": []
          },
          "execution_count": 240
        }
      ]
    },
    {
      "metadata": {
        "id": "7xNRPafCLNHU",
        "colab_type": "text"
      },
      "cell_type": "markdown",
      "source": [
        "# Analysis Results and a few words <a name = 'results'></a>"
      ]
    },
    {
      "metadata": {
        "id": "DESQCPKNnWmx",
        "colab_type": "text"
      },
      "cell_type": "markdown",
      "source": [
        "<h3> Gulf of California, Baja California and Baja California Sur </h3>\n",
        "As according to our analysis there a total of 161 unique places of recorded earthquakes, among which there are 18 places where earthquakes is more frequent in the last 10 years, with the highest counts 39 in 10 years at Gulf of California, 9 in 10 years at Baja California and 5 in 10 years at Baja California Sur. These three places have been the most unstable and consistent in terms of earthquakes in the last 10 years. \n",
        "\n",
        "<h3> Holiday Inn and Suites, Trinidad;  The Meyer Hotel;  Hockin Hotel </h3>\n",
        "With the analysis results in hand, we see there are a total of 16 unique hotels which are potentilly risky to the earthquakes due to their position, with the higher Vulnerable Occurence in the above three hotels, stating that, they appeared as a nearby place to the above mentioned numbers of different earthquake recorded. \n",
        "\n",
        "The clustered map shows the similarity between the hotels learnt in the unsupervised leanring process, clustering. The final dataset have been generated with the hotels, their locations and formatted addresses for easy access. "
      ]
    },
    {
      "metadata": {
        "id": "UAQ2GOrILfBq",
        "colab_type": "text"
      },
      "cell_type": "markdown",
      "source": [
        "# Conclusion <a name = 'conlcusion'></a>"
      ]
    },
    {
      "metadata": {
        "id": "xVneX7_VwQJx",
        "colab_type": "text"
      },
      "cell_type": "markdown",
      "source": [
        "The assignment was intended for determining the potentially risky places to earthquakes and finding the potentially vulnerable hotels around the places of most frequent earthquakes. With different data science tools ranging from data validation to visualisation helped in creating the assignment. \n",
        "\n",
        "The clusters will help in segmenting the hotels with similar attributes in the map for the sake of better understanding the potential risk factors. \n",
        "\n",
        "The final decision about the scrutiny in the hotels for earthquake safety and upgrade is completely upon the government city management team, the hotel stakeholders and surveyers.\n",
        "\n"
      ]
    },
    {
      "metadata": {
        "id": "TVUMkrbdzCeT",
        "colab_type": "text"
      },
      "cell_type": "markdown",
      "source": [
        "\n",
        "\n",
        "```\n",
        "Assignee: \n",
        "Swastik Nath. \n",
        "```\n",
        "\n"
      ]
    },
    {
      "metadata": {
        "id": "0WwflYRkQeOI",
        "colab_type": "text"
      },
      "cell_type": "markdown",
      "source": [
        "\n",
        "\n",
        "---\n",
        "\n",
        "\n",
        ">\"*When an idea exclusively occupies the mind, it is transformed into an actual physical or mental state.''*\n",
        "<div> </div>  <p> ~ Swami Vivekananda</p>"
      ]
    }
  ]
}